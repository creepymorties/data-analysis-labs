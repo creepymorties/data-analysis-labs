{
 "cells": [
  {
   "cell_type": "markdown",
   "metadata": {},
   "source": [
    "\n",
    "\n",
    "### О задании\n",
    "\n",
    "Практическое задание 1 посвящено изучению основных библиотек для анализа данных, а также линейных моделей и методов их обучения. Вы научитесь:\n",
    " * применять библиотеки NumPy и Pandas для осуществления желаемых преобразований;\n",
    " * подготавливать данные для обучения линейных моделей;\n",
    " * обучать линейную, Lasso и Ridge-регрессии при помощи модуля scikit-learn;\n",
    " * реализовывать обычный и стохастический градиентные спуски;\n",
    " * обучать линейную регрессию для произвольного функционала качества.\n",
    " \n"
   ]
  },
  {
   "cell_type": "markdown",
   "metadata": {},
   "source": [
    "## Библиотеки для анализа данных\n",
    "\n",
    "### NumPy\n",
    "\n",
    "Во всех заданиях данного раздела запрещено использовать циклы  и list comprehensions. Под вектором и матрицей в данных заданиях понимается одномерный и двумерный numpy.array соответственно."
   ]
  },
  {
   "cell_type": "code",
   "execution_count": 102,
   "metadata": {
    "collapsed": true
   },
   "outputs": [],
   "source": [
    "import numpy as np\n",
    "from dataclasses import dataclass\n",
    "from pprint import pprint\n",
    "import pandas as pd\n",
    "from collections import namedtuple\n",
    "from typing import Optional, List\n",
    "%matplotlib inline\n",
    "from sklearn.preprocessing import StandardScaler\n",
    "from sklearn.model_selection import train_test_split\n",
    "from sklearn.linear_model import LinearRegression, LassoCV, RidgeCV\n",
    "from sklearn.metrics import mean_squared_error, r2_score"
   ]
  },
  {
   "cell_type": "markdown",
   "metadata": {},
   "source": [
    "**1.** Реализуйте функцию, возвращающую максимальный элемент в векторе x среди элементов, перед которыми стоит нулевой. Для x = np.array([6, 2, 0, 3, 0, 0, 5, 7, 0]) ответом является 5. Если нулевых элементов нет, функция должна возвращать None.\n"
   ]
  },
  {
   "cell_type": "code",
   "execution_count": 44,
   "metadata": {
    "collapsed": true
   },
   "outputs": [
    {
     "name": "stdout",
     "output_type": "stream",
     "text": [
      "5\n",
      "None\n"
     ]
    }
   ],
   "source": [
    "input_arr = np.array([6, 2, 0, 3, 0, 0, 5, 7, 0])\n",
    "input_arr_no_zeroes = np.random.rand(0,10)\n",
    "\n",
    "\n",
    "def max_element(arr: np.ndarray):\n",
    "    \n",
    "    if len(arr[arr == 0]) == 0:\n",
    "        return None\n",
    "    \n",
    "    x = arr[np.insert(np.diff(input).astype(bool), 0, True)]\n",
    "    next_el = np.vectorize(lambda x: x + 1)\n",
    "    res = np.take(x, next_el(np.where(x == 0)[0]), mode='clip')\n",
    "    return np.max(res[res.nonzero()])\n",
    "\n",
    "print(max_element(input_arr))\n",
    "print(max_element(input_arr_no_zeroes))\n",
    "\n",
    "\n",
    "\n",
    "    \n",
    "    "
   ]
  },
  {
   "cell_type": "markdown",
   "metadata": {},
   "source": [
    "**2. ** Реализуйте функцию, принимающую на вход матрицу и некоторое число и возвращающую ближайший к числу элемент матрицы. Например: для X = np.arange(0,10).reshape((2, 5)) и v = 3.6 ответом будет 4."
   ]
  },
  {
   "cell_type": "code",
   "execution_count": 9,
   "metadata": {
    "collapsed": true
   },
   "outputs": [
    {
     "data": {
      "text/plain": [
       "9"
      ]
     },
     "execution_count": 9,
     "metadata": {},
     "output_type": "execute_result"
    }
   ],
   "source": [
    "input_arr = np.arange(0,10).reshape((2, 5))\n",
    "val = 9.3\n",
    "\n",
    "def nearest_value(x: np.ndarray, v: float):\n",
    "    diff_func = np.vectorize(lambda x: abs(x - v)) \n",
    "    return np.take(x, np.argmin(diff_func(x)))\n",
    "\n",
    "nearest_value(input_arr, val)"
   ]
  },
  {
   "cell_type": "markdown",
   "metadata": {},
   "source": [
    "**3. ** Реализуйте функцию scale(X), которая принимает на вход матрицу и масштабирует каждый ее столбец (вычитает выборочное среднее и делит на стандартное отклонение). Убедитесь, что в функции не будет происходить деления на ноль. Протестируйте на случайной матрице (для её генерации можно использовать, например, функцию [numpy.random.randint](http://docs.scipy.org/doc/numpy/reference/generated/numpy.random.randint.html))."
   ]
  },
  {
   "cell_type": "code",
   "execution_count": 22,
   "metadata": {},
   "outputs": [],
   "source": [
    "\n",
    "# Simple ndarray (matrix) to test with \n",
    "\n",
    "test_matrix = np.array([[0, 0], [0, 0], [1, 1], [1, 1]])"
   ]
  },
  {
   "cell_type": "code",
   "execution_count": 25,
   "metadata": {
    "collapsed": true
   },
   "outputs": [
    {
     "data": {
      "text/plain": [
       "array([[-1., -1.],\n",
       "       [-1., -1.],\n",
       "       [ 1.,  1.],\n",
       "       [ 1.,  1.]])"
      ]
     },
     "execution_count": 25,
     "metadata": {},
     "output_type": "execute_result"
    }
   ],
   "source": [
    "def scale(x: np.ndarray):\n",
    "    return (x - x.mean()) / x.std()\n",
    "\n",
    "scale(test_matrix)"
   ]
  },
  {
   "cell_type": "markdown",
   "metadata": {},
   "source": [
    "**4.** Реализуйте функцию, которая для заданной матрицы находит:\n",
    " - определитель\n",
    " - след\n",
    " - наименьший и наибольший элементы\n",
    " - норму Фробениуса\n",
    " - собственные числа\n",
    " - обратную матрицу\n",
    "\n",
    "Для тестирования сгенерируйте матрицу с элементами из нормального распределения $\\mathcal{N}$(10,1)"
   ]
  },
  {
   "cell_type": "code",
   "execution_count": 52,
   "metadata": {},
   "outputs": [
    {
     "name": "stdout",
     "output_type": "stream",
     "text": [
      "{'determinant': -39.11033956921605,\n",
      " 'eigen_values': array([39.81156856, -1.045561  ,  0.77669785,  1.20970874]),\n",
      " 'frobenius_norm': 40.04638129350938,\n",
      " 'inversed': array([[ 0.28119916,  0.02687238, -0.61656905,  0.43339415],\n",
      "       [-1.81722597,  0.84247425,  0.50395438,  0.35857627],\n",
      "       [-0.50746704, -0.16613262,  0.66607332, -0.08761079],\n",
      "       [ 1.89921023, -0.61343763, -0.50569937, -0.60690553]]),\n",
      " 'max_el': 11.873064722749294,\n",
      " 'min_el': 8.157109290932926,\n",
      " 'trace': 40.752414146212885}\n"
     ]
    }
   ],
   "source": [
    "input_matrix = np.random.normal(10, 1, 16).reshape(4, 4)\n",
    "\n",
    "@dataclass\n",
    "class Stats:\n",
    "    def __init__(self, matrix: np.ndarray) -> None:\n",
    "        \n",
    "        self.determinant = np.linalg.det(matrix)\n",
    "        self.trace = np.trace(matrix)\n",
    "        self.max_el = np.max(matrix)\n",
    "        self.min_el = np.min(matrix)\n",
    "        self.frobenius_norm = np.linalg.norm(matrix)\n",
    "        self.eigen_values = np.linalg.eigvals(matrix)\n",
    "        self.inversed = np.linalg.inv(matrix)\n",
    "           \n",
    "\n",
    "def get_stats(x: np.ndarray):\n",
    "    return Stats(matrix=x)\n",
    "\n",
    "\n",
    "pprint(get_stats(input_matrix).__dict__)\n",
    "\n"
   ]
  },
  {
   "cell_type": "markdown",
   "metadata": {},
   "source": [
    "**5.** Повторите 100 раз следующий эксперимент: сгенерируйте две матрицы размера 10×10 из стандартного нормального распределения, перемножьте их (как матрицы) и найдите максимальный элемент. Какое среднее значение по экспериментам у максимальных элементов? 95-процентная квантиль?"
   ]
  },
  {
   "cell_type": "code",
   "execution_count": 75,
   "metadata": {
    "collapsed": true
   },
   "outputs": [
    {
     "name": "stdout",
     "output_type": "stream",
     "text": [
      "{'max_mean': 8.70647550000318, 'quantile_95': 1.6293987019877694}\n"
     ]
    }
   ],
   "source": [
    "\n",
    "max_els = []\n",
    "all_vals = []\n",
    "\n",
    "for exp_num in range(100):\n",
    "    mt1 = np.random.normal(size=100).reshape(10, 10)\n",
    "    mt2 = np.random.normal(size=100).reshape(10, 10)\n",
    "    \n",
    "    max_els.append(np.max(np.matmul(mt1, mt2)))\n",
    "    all_vals.extend(np.matrix.flatten(mt1).tolist())\n",
    "    all_vals.extend(np.matrix.flatten(mt2).tolist())\n",
    "    \n",
    "\n",
    "maxs_mean = np.mean(max_els)\n",
    "quantile_95 = np.quantile(all_vals, 0.95)\n",
    "\n",
    "\n",
    "pprint({'max_mean': maxs_mean, 'quantile_95': quantile_95})\n",
    "    "
   ]
  },
  {
   "cell_type": "markdown",
   "metadata": {},
   "source": [
    "### Pandas\n",
    "\n",
    "![](https://metrouk2.files.wordpress.com/2015/10/panda.jpg)\n",
    "\n",
    "#### Ответьте на вопросы о данных по авиарейсам в США за январь-апрель 2008 года.\n",
    "\n",
    "[Данные](https://www.dropbox.com/s/dvfitn93obn0rql/2008.csv?dl=0) и их [описание](http://stat-computing.org/dataexpo/2009/the-data.html)"
   ]
  },
  {
   "cell_type": "code",
   "execution_count": 3,
   "metadata": {},
   "outputs": [],
   "source": [
    "df = pd.read_csv('2008.csv')\n"
   ]
  },
  {
   "cell_type": "markdown",
   "metadata": {},
   "source": [
    "**6.** Какая из причин отмены рейса (`CancellationCode`) была самой частой? (расшифровки кодов можно найти в описании данных)"
   ]
  },
  {
   "cell_type": "code",
   "execution_count": 37,
   "metadata": {
    "collapsed": true
   },
   "outputs": [
    {
     "name": "stdout",
     "output_type": "stream",
     "text": [
      "The most common CancellationCode is : A\n"
     ]
    }
   ],
   "source": [
    "df_cancellation_code_counted =  df['CancellationCode'].dropna().value_counts()\n",
    "most_common_code = df_cancellation_code_counted.where(df_cancellation_code_counted == df_cancellation_code_counted.max()).reset_index()['index'][0]\n",
    "print(f\"The most common CancellationCode is : {most_common_code}\")\n"
   ]
  },
  {
   "cell_type": "markdown",
   "metadata": {},
   "source": [
    "**7.** Найдите среднее, минимальное и максимальное расстояние, пройденное самолетом."
   ]
  },
  {
   "cell_type": "code",
   "execution_count": 39,
   "metadata": {
    "collapsed": true
   },
   "outputs": [
    {
     "name": "stdout",
     "output_type": "stream",
     "text": [
      "{'avg': 724.5082571428571, 'max': 4962, 'min': 31}\n"
     ]
    }
   ],
   "source": [
    "@dataclass\n",
    "class DistanceInfo:\n",
    "    def __init__(self, distance: pd.Series) -> None:\n",
    "        self.max = distance.max()\n",
    "        self.min = distance.min()\n",
    "        self.avg = distance.mean()\n",
    "    \n",
    "\n",
    "dist_info = DistanceInfo(df['Distance'])\n",
    "\n",
    "pprint(dist_info.__dict__)        \n",
    "        \n"
   ]
  },
  {
   "cell_type": "markdown",
   "metadata": {},
   "source": [
    "**8.** Не выглядит ли подозрительным минимальное пройденное расстояние? В какие дни и на каких рейсах оно было? Какое расстояние было пройдено этими же рейсами в другие дни?"
   ]
  },
  {
   "cell_type": "code",
   "execution_count": 66,
   "metadata": {
    "collapsed": true
   },
   "outputs": [
    {
     "name": "stdout",
     "output_type": "stream",
     "text": [
      "      TailNum  Distance    Year  Month  DayofMonth\n",
      "1116   N795AS      31.0  2008.0   12.0        30.0\n",
      "6958   N795AS      31.0  2008.0   12.0        26.0\n",
      "17349  N768AS      31.0  2008.0    8.0        18.0\n",
      "27534  N764AS      31.0  2008.0    3.0        11.0\n",
      "46082  N708AS      31.0  2008.0    8.0         9.0\n",
      "48112  N762AS      31.0  2008.0    2.0        28.0\n"
     ]
    }
   ],
   "source": [
    "# Flights with min dist\n",
    "\n",
    "filter = df['Distance'] == dist_info.min\n",
    "min_dist_flights = df.where(filter).dropna(subset=['Distance'])\n",
    "pprint(min_dist_flights[['TailNum', 'Distance', 'Year', 'Month', 'DayofMonth']])"
   ]
  },
  {
   "cell_type": "code",
   "execution_count": 64,
   "metadata": {},
   "outputs": [
    {
     "name": "stdout",
     "output_type": "stream",
     "text": [
      "       Year  Month  DayofMonth  DayOfWeek  DepTime  CRSDepTime  ArrTime  \\\n",
      "84     2008      3          16          7   1332.0        1344   1419.0   \n",
      "994    2008      1           2          3   2359.0        2243    420.0   \n",
      "1116   2008     12          30          2   1123.0        1007   1148.0   \n",
      "1872   2008      1           1          2   1301.0        1328   1339.0   \n",
      "1951   2008     11          30          7   2025.0        2009   2147.0   \n",
      "...     ...    ...         ...        ...      ...         ...      ...   \n",
      "67275  2008      8          12          2   1007.0         958   1129.0   \n",
      "67631  2008      6          11          3   1314.0        1321   1358.0   \n",
      "67994  2008     10          30          4   1928.0        1845   2013.0   \n",
      "68514  2008      3          29          6    556.0         600    737.0   \n",
      "69107  2008      5           1          4    616.0         630    828.0   \n",
      "\n",
      "       CRSArrTime UniqueCarrier  FlightNum  ... TaxiIn  TaxiOut  Cancelled  \\\n",
      "84           1430            AS         61  ...    4.0     11.0          0   \n",
      "994           314            AS        164  ...    3.0      9.0          0   \n",
      "1116         1033            AS         65  ...    6.0      6.0          0   \n",
      "1872         1417            AS        152  ...    2.0      3.0          0   \n",
      "1951         2130            AS         52  ...    2.0      4.0          0   \n",
      "...           ...           ...        ...  ...    ...      ...        ...   \n",
      "67275        1127            AS        151  ...    4.0      5.0          0   \n",
      "67631        1411            AS         61  ...    4.0      6.0          0   \n",
      "67994        1933            AS         66  ...    4.0      4.0          0   \n",
      "68514         740            AS        151  ...    4.0     16.0          0   \n",
      "69107         820            AS        351  ...    5.0     20.0          0   \n",
      "\n",
      "       CancellationCode  Diverted  CarrierDelay WeatherDelay NASDelay  \\\n",
      "84                  NaN         0           NaN          NaN      NaN   \n",
      "994                 NaN         0          66.0          0.0      0.0   \n",
      "1116                NaN         0           0.0         75.0      0.0   \n",
      "1872                NaN         0           NaN          NaN      NaN   \n",
      "1951                NaN         0           0.0          0.0      1.0   \n",
      "...                 ...       ...           ...          ...      ...   \n",
      "67275               NaN         0           NaN          NaN      NaN   \n",
      "67631               NaN         0           NaN          NaN      NaN   \n",
      "67994               NaN         0           0.0          0.0      0.0   \n",
      "68514               NaN         0           NaN          NaN      NaN   \n",
      "69107               NaN         0           NaN          NaN      NaN   \n",
      "\n",
      "       SecurityDelay  LateAircraftDelay  \n",
      "84               NaN                NaN  \n",
      "994              0.0                0.0  \n",
      "1116             0.0                0.0  \n",
      "1872             NaN                NaN  \n",
      "1951             6.0               10.0  \n",
      "...              ...                ...  \n",
      "67275            NaN                NaN  \n",
      "67631            NaN                NaN  \n",
      "67994            0.0               40.0  \n",
      "68514            NaN                NaN  \n",
      "69107            NaN                NaN  \n",
      "\n",
      "[102 rows x 29 columns]\n"
     ]
    }
   ],
   "source": [
    "flights_to_find: np.ndarray = min_dist_flights['TailNum'].values\n",
    "flights_from_min_dist = df[df['TailNum'].isin(flights_to_find)]\n",
    "\n",
    "\n",
    "pprint(flights_from_min_dist)"
   ]
  },
  {
   "cell_type": "code",
   "execution_count": 72,
   "metadata": {},
   "outputs": [
    {
     "name": "stdout",
     "output_type": "stream",
     "text": [
      "  TailNum    Distance\n",
      "0  N708AS  660.500000\n",
      "1  N762AS  461.666667\n",
      "2  N764AS  398.600000\n",
      "3  N768AS  482.708333\n",
      "4  N795AS  758.000000\n"
     ]
    }
   ],
   "source": [
    "pprint(flights_from_min_dist.groupby(['TailNum'])['Distance'].mean().reset_index())"
   ]
  },
  {
   "cell_type": "markdown",
   "metadata": {},
   "source": [
    "**9.** Из какого аэропорта было произведено больше всего вылетов? В каком городе он находится?"
   ]
  },
  {
   "cell_type": "code",
   "execution_count": 4,
   "metadata": {
    "collapsed": true
   },
   "outputs": [
    {
     "name": "stdout",
     "output_type": "stream",
     "text": [
      "  Origin  TotalFlights\n",
      "0    ATL          4134\n"
     ]
    }
   ],
   "source": [
    "most_popular_airport = df.groupby(['Origin']).size().sort_values().tail(1).reset_index()\n",
    "most_popular_airport.columns.values[1] = 'TotalFlights'\n",
    "\n",
    "pprint(most_popular_airport)"
   ]
  },
  {
   "cell_type": "markdown",
   "metadata": {},
   "source": [
    "**10.** Найдите для каждого аэропорта среднее время полета (`AirTime`) по всем вылетевшим из него рейсам. Какой аэропорт имеет наибольшее значение этого показателя?"
   ]
  },
  {
   "cell_type": "code",
   "execution_count": 18,
   "metadata": {
    "collapsed": true
   },
   "outputs": [
    {
     "name": "stdout",
     "output_type": "stream",
     "text": [
      "    Origin    AirTime\n",
      "0      ABE  88.266667\n",
      "1      ABI  36.400000\n",
      "2      ABQ  93.454321\n",
      "3      ABY  35.714286\n",
      "4      ACK  50.800000\n",
      "..     ...        ...\n",
      "292    WRG  18.000000\n",
      "293    XNA  85.945736\n",
      "294    YAK  35.900000\n",
      "295    YKM  79.000000\n",
      "296    YUM  47.470588\n",
      "\n",
      "[297 rows x 2 columns]\n"
     ]
    }
   ],
   "source": [
    "mean_airtime_byairport = df.groupby(['Origin']).mean(['Airtime']).reset_index()[['Origin', 'AirTime']]\n",
    "pprint(mean_airtime_byairport)"
   ]
  },
  {
   "cell_type": "code",
   "execution_count": 28,
   "metadata": {},
   "outputs": [
    {
     "data": {
      "text/html": [
       "<div>\n",
       "<style scoped>\n",
       "    .dataframe tbody tr th:only-of-type {\n",
       "        vertical-align: middle;\n",
       "    }\n",
       "\n",
       "    .dataframe tbody tr th {\n",
       "        vertical-align: top;\n",
       "    }\n",
       "\n",
       "    .dataframe thead th {\n",
       "        text-align: right;\n",
       "    }\n",
       "</style>\n",
       "<table border=\"1\" class=\"dataframe\">\n",
       "  <thead>\n",
       "    <tr style=\"text-align: right;\">\n",
       "      <th></th>\n",
       "      <th>Origin</th>\n",
       "      <th>AirTime</th>\n",
       "    </tr>\n",
       "  </thead>\n",
       "  <tbody>\n",
       "    <tr>\n",
       "      <th>262</th>\n",
       "      <td>SJU</td>\n",
       "      <td>205.2</td>\n",
       "    </tr>\n",
       "  </tbody>\n",
       "</table>\n",
       "</div>"
      ],
      "text/plain": [
       "    Origin  AirTime\n",
       "262    SJU    205.2"
      ]
     },
     "execution_count": 28,
     "metadata": {},
     "output_type": "execute_result"
    }
   ],
   "source": [
    "mean_airtime_byairport.sort_values(['AirTime']).dropna().tail(1)\n"
   ]
  },
  {
   "cell_type": "markdown",
   "metadata": {},
   "source": [
    "**11.** Найдите аэропорт, у которого наибольшая доля задержанных (`DepDelay > 0`) рейсов. Исключите при этом из рассмотрения аэропорты, из которых было отправлено меньше 1000 рейсов (используйте функцию `filter` после `groupby`)."
   ]
  },
  {
   "cell_type": "code",
   "execution_count": 59,
   "metadata": {},
   "outputs": [
    {
     "name": "stdout",
     "output_type": "stream",
     "text": [
      "    Origin  DepDelay\n",
      "117    ORD   60116.0\n"
     ]
    }
   ],
   "source": [
    "delays = df.groupby(['Origin']).filter(lambda x: x.size > 1000).groupby(['Origin']).sum().reset_index()[['Origin', 'DepDelay']]\n",
    "delays_pos = delays[delays['DepDelay'] > 0]\n",
    "max_delay = delays_pos.sort_values(['DepDelay']).dropna().tail(1)\n",
    "pprint(max_delay)"
   ]
  },
  {
   "cell_type": "markdown",
   "metadata": {},
   "source": [
    "## Линейная регрессия\n",
    "\n",
    "В этой части мы разберемся с линейной регрессией, способами её обучения и измерением качества ее прогнозов. \n",
    "\n",
    "Будем рассматривать датасет из предыдущей части задания для предсказания времени задержки отправления рейса в минутах (DepDelay). Отметим, что под задержкой подразумевается не только опоздание рейса относительно планируемого времени вылета, но и отправление до планируемого времени.\n",
    "\n",
    "### Подготовка данных\n",
    "\n",
    "**12.** Считайте выборку из файла при помощи функции pd.read_csv и ответьте на следующие вопросы:\n",
    "   - Имеются ли в данных пропущенные значения?\n",
    "   - Сколько всего пропущенных элементов в таблице \"объект-признак\"?\n",
    "   - Сколько объектов имеют хотя бы один пропуск?\n",
    "   - Сколько признаков имеют хотя бы одно пропущенное значение?"
   ]
  },
  {
   "cell_type": "code",
   "execution_count": 2,
   "metadata": {
    "scrolled": true
   },
   "outputs": [],
   "source": [
    "df = pd.read_csv('2008.csv')\n"
   ]
  },
  {
   "cell_type": "code",
   "execution_count": 3,
   "metadata": {},
   "outputs": [
    {
     "name": "stdout",
     "output_type": "stream",
     "text": [
      "All NaN values count equals: 355215\n",
      "Samples with at least one NaN values count equals: 70000\n",
      "All columns with at least one NaN value equals: 16\n"
     ]
    }
   ],
   "source": [
    "all_nans = df.isnull().sum().values.sum()\n",
    "samples_with_nan = len(df[df.isna().any(axis=1)].index)\n",
    "columns_with_nan = df.isnull().sum().where(lambda i: i > 0).dropna().count()\n",
    "\n",
    "print(f'All NaN values count equals: {all_nans}')\n",
    "print(f'Samples with at least one NaN values count equals: {samples_with_nan}')\n",
    "print(f'All columns with at least one NaN value equals: {columns_with_nan}')"
   ]
  },
  {
   "cell_type": "markdown",
   "metadata": {},
   "source": [
    "Как вы понимаете, также не имеет смысла рассматривать при решении поставленной задачи объекты с пропущенным значением целевой переменной. В связи с этим ответьте на следующие вопросы и выполните соответствующие действия:\n",
    "- Имеются ли пропущенные значения в целевой переменной?\n",
    "- Проанализируйте объекты с пропущенными значениями целевой переменной. Чем вызвано это явление? Что их объединяет? Можно ли в связи с этим, на ваш взгляд, исключить какие-то признаки из рассмотрения? Обоснуйте свою точку зрения.\n",
    "\n",
    "Исключите из выборки объекты **с пропущенным значением целевой переменной и со значением целевой переменной, равным 0**, а также при необходимости исключите признаки в соответствии с вашим ответом на последний вопрос из списка и выделите целевую переменную в отдельный вектор, исключив её из матрицы \"объект-признак\"."
   ]
  },
  {
   "cell_type": "code",
   "execution_count": 4,
   "metadata": {
    "collapsed": true
   },
   "outputs": [
    {
     "name": "stdout",
     "output_type": "stream",
     "text": [
      "True\n"
     ]
    }
   ],
   "source": [
    "# We can see that the target variable does have missing values\n",
    "\n",
    "y_has_nan = df['DepDelay'].dropna().count() != len(df['DepDelay'].index)\n",
    "print(y_has_nan)\n"
   ]
  },
  {
   "cell_type": "code",
   "execution_count": 53,
   "metadata": {},
   "outputs": [],
   "source": [
    "# As we can see, if the DepDelay time is NaN, then we get a lot \n",
    "\n",
    "samples_y_nan = df[df['DepDelay'].isna()]\n",
    "samples_y_not_nan = df[df['DepDelay'].notna()]"
   ]
  },
  {
   "cell_type": "code",
   "execution_count": 54,
   "metadata": {},
   "outputs": [
    {
     "data": {
      "text/html": [
       "<div>\n",
       "<style scoped>\n",
       "    .dataframe tbody tr th:only-of-type {\n",
       "        vertical-align: middle;\n",
       "    }\n",
       "\n",
       "    .dataframe tbody tr th {\n",
       "        vertical-align: top;\n",
       "    }\n",
       "\n",
       "    .dataframe thead th {\n",
       "        text-align: right;\n",
       "    }\n",
       "</style>\n",
       "<table border=\"1\" class=\"dataframe\">\n",
       "  <thead>\n",
       "    <tr style=\"text-align: right;\">\n",
       "      <th></th>\n",
       "      <th>Year</th>\n",
       "      <th>Month</th>\n",
       "      <th>DayofMonth</th>\n",
       "      <th>DayOfWeek</th>\n",
       "      <th>DepTime</th>\n",
       "      <th>CRSDepTime</th>\n",
       "      <th>ArrTime</th>\n",
       "      <th>CRSArrTime</th>\n",
       "      <th>UniqueCarrier</th>\n",
       "      <th>FlightNum</th>\n",
       "      <th>...</th>\n",
       "      <th>TaxiIn</th>\n",
       "      <th>TaxiOut</th>\n",
       "      <th>Cancelled</th>\n",
       "      <th>CancellationCode</th>\n",
       "      <th>Diverted</th>\n",
       "      <th>CarrierDelay</th>\n",
       "      <th>WeatherDelay</th>\n",
       "      <th>NASDelay</th>\n",
       "      <th>SecurityDelay</th>\n",
       "      <th>LateAircraftDelay</th>\n",
       "    </tr>\n",
       "  </thead>\n",
       "  <tbody>\n",
       "    <tr>\n",
       "      <th>11</th>\n",
       "      <td>2008</td>\n",
       "      <td>3</td>\n",
       "      <td>6</td>\n",
       "      <td>4</td>\n",
       "      <td>NaN</td>\n",
       "      <td>1605</td>\n",
       "      <td>NaN</td>\n",
       "      <td>1940</td>\n",
       "      <td>AA</td>\n",
       "      <td>484</td>\n",
       "      <td>...</td>\n",
       "      <td>NaN</td>\n",
       "      <td>NaN</td>\n",
       "      <td>1</td>\n",
       "      <td>B</td>\n",
       "      <td>0</td>\n",
       "      <td>NaN</td>\n",
       "      <td>NaN</td>\n",
       "      <td>NaN</td>\n",
       "      <td>NaN</td>\n",
       "      <td>NaN</td>\n",
       "    </tr>\n",
       "    <tr>\n",
       "      <th>78</th>\n",
       "      <td>2008</td>\n",
       "      <td>1</td>\n",
       "      <td>19</td>\n",
       "      <td>6</td>\n",
       "      <td>NaN</td>\n",
       "      <td>750</td>\n",
       "      <td>NaN</td>\n",
       "      <td>930</td>\n",
       "      <td>EV</td>\n",
       "      <td>4772</td>\n",
       "      <td>...</td>\n",
       "      <td>NaN</td>\n",
       "      <td>NaN</td>\n",
       "      <td>1</td>\n",
       "      <td>B</td>\n",
       "      <td>0</td>\n",
       "      <td>NaN</td>\n",
       "      <td>NaN</td>\n",
       "      <td>NaN</td>\n",
       "      <td>NaN</td>\n",
       "      <td>NaN</td>\n",
       "    </tr>\n",
       "    <tr>\n",
       "      <th>103</th>\n",
       "      <td>2008</td>\n",
       "      <td>7</td>\n",
       "      <td>24</td>\n",
       "      <td>4</td>\n",
       "      <td>NaN</td>\n",
       "      <td>1230</td>\n",
       "      <td>NaN</td>\n",
       "      <td>1355</td>\n",
       "      <td>FL</td>\n",
       "      <td>816</td>\n",
       "      <td>...</td>\n",
       "      <td>NaN</td>\n",
       "      <td>NaN</td>\n",
       "      <td>1</td>\n",
       "      <td>A</td>\n",
       "      <td>0</td>\n",
       "      <td>NaN</td>\n",
       "      <td>NaN</td>\n",
       "      <td>NaN</td>\n",
       "      <td>NaN</td>\n",
       "      <td>NaN</td>\n",
       "    </tr>\n",
       "    <tr>\n",
       "      <th>112</th>\n",
       "      <td>2008</td>\n",
       "      <td>2</td>\n",
       "      <td>4</td>\n",
       "      <td>1</td>\n",
       "      <td>NaN</td>\n",
       "      <td>620</td>\n",
       "      <td>NaN</td>\n",
       "      <td>758</td>\n",
       "      <td>NW</td>\n",
       "      <td>1281</td>\n",
       "      <td>...</td>\n",
       "      <td>NaN</td>\n",
       "      <td>NaN</td>\n",
       "      <td>1</td>\n",
       "      <td>B</td>\n",
       "      <td>0</td>\n",
       "      <td>NaN</td>\n",
       "      <td>NaN</td>\n",
       "      <td>NaN</td>\n",
       "      <td>NaN</td>\n",
       "      <td>NaN</td>\n",
       "    </tr>\n",
       "    <tr>\n",
       "      <th>128</th>\n",
       "      <td>2008</td>\n",
       "      <td>1</td>\n",
       "      <td>21</td>\n",
       "      <td>1</td>\n",
       "      <td>NaN</td>\n",
       "      <td>1838</td>\n",
       "      <td>NaN</td>\n",
       "      <td>2005</td>\n",
       "      <td>UA</td>\n",
       "      <td>1251</td>\n",
       "      <td>...</td>\n",
       "      <td>NaN</td>\n",
       "      <td>NaN</td>\n",
       "      <td>1</td>\n",
       "      <td>A</td>\n",
       "      <td>0</td>\n",
       "      <td>NaN</td>\n",
       "      <td>NaN</td>\n",
       "      <td>NaN</td>\n",
       "      <td>NaN</td>\n",
       "      <td>NaN</td>\n",
       "    </tr>\n",
       "    <tr>\n",
       "      <th>...</th>\n",
       "      <td>...</td>\n",
       "      <td>...</td>\n",
       "      <td>...</td>\n",
       "      <td>...</td>\n",
       "      <td>...</td>\n",
       "      <td>...</td>\n",
       "      <td>...</td>\n",
       "      <td>...</td>\n",
       "      <td>...</td>\n",
       "      <td>...</td>\n",
       "      <td>...</td>\n",
       "      <td>...</td>\n",
       "      <td>...</td>\n",
       "      <td>...</td>\n",
       "      <td>...</td>\n",
       "      <td>...</td>\n",
       "      <td>...</td>\n",
       "      <td>...</td>\n",
       "      <td>...</td>\n",
       "      <td>...</td>\n",
       "      <td>...</td>\n",
       "    </tr>\n",
       "    <tr>\n",
       "      <th>69818</th>\n",
       "      <td>2008</td>\n",
       "      <td>6</td>\n",
       "      <td>9</td>\n",
       "      <td>1</td>\n",
       "      <td>NaN</td>\n",
       "      <td>1645</td>\n",
       "      <td>NaN</td>\n",
       "      <td>1800</td>\n",
       "      <td>MQ</td>\n",
       "      <td>3627</td>\n",
       "      <td>...</td>\n",
       "      <td>NaN</td>\n",
       "      <td>NaN</td>\n",
       "      <td>1</td>\n",
       "      <td>C</td>\n",
       "      <td>0</td>\n",
       "      <td>NaN</td>\n",
       "      <td>NaN</td>\n",
       "      <td>NaN</td>\n",
       "      <td>NaN</td>\n",
       "      <td>NaN</td>\n",
       "    </tr>\n",
       "    <tr>\n",
       "      <th>69836</th>\n",
       "      <td>2008</td>\n",
       "      <td>1</td>\n",
       "      <td>25</td>\n",
       "      <td>5</td>\n",
       "      <td>NaN</td>\n",
       "      <td>938</td>\n",
       "      <td>NaN</td>\n",
       "      <td>1030</td>\n",
       "      <td>MQ</td>\n",
       "      <td>3254</td>\n",
       "      <td>...</td>\n",
       "      <td>NaN</td>\n",
       "      <td>NaN</td>\n",
       "      <td>1</td>\n",
       "      <td>B</td>\n",
       "      <td>0</td>\n",
       "      <td>NaN</td>\n",
       "      <td>NaN</td>\n",
       "      <td>NaN</td>\n",
       "      <td>NaN</td>\n",
       "      <td>NaN</td>\n",
       "    </tr>\n",
       "    <tr>\n",
       "      <th>69884</th>\n",
       "      <td>2008</td>\n",
       "      <td>12</td>\n",
       "      <td>26</td>\n",
       "      <td>5</td>\n",
       "      <td>NaN</td>\n",
       "      <td>1935</td>\n",
       "      <td>NaN</td>\n",
       "      <td>2116</td>\n",
       "      <td>NW</td>\n",
       "      <td>1430</td>\n",
       "      <td>...</td>\n",
       "      <td>NaN</td>\n",
       "      <td>NaN</td>\n",
       "      <td>1</td>\n",
       "      <td>B</td>\n",
       "      <td>0</td>\n",
       "      <td>NaN</td>\n",
       "      <td>NaN</td>\n",
       "      <td>NaN</td>\n",
       "      <td>NaN</td>\n",
       "      <td>NaN</td>\n",
       "    </tr>\n",
       "    <tr>\n",
       "      <th>69918</th>\n",
       "      <td>2008</td>\n",
       "      <td>3</td>\n",
       "      <td>1</td>\n",
       "      <td>6</td>\n",
       "      <td>NaN</td>\n",
       "      <td>600</td>\n",
       "      <td>NaN</td>\n",
       "      <td>742</td>\n",
       "      <td>EV</td>\n",
       "      <td>4715</td>\n",
       "      <td>...</td>\n",
       "      <td>NaN</td>\n",
       "      <td>NaN</td>\n",
       "      <td>1</td>\n",
       "      <td>A</td>\n",
       "      <td>0</td>\n",
       "      <td>NaN</td>\n",
       "      <td>NaN</td>\n",
       "      <td>NaN</td>\n",
       "      <td>NaN</td>\n",
       "      <td>NaN</td>\n",
       "    </tr>\n",
       "    <tr>\n",
       "      <th>69949</th>\n",
       "      <td>2008</td>\n",
       "      <td>1</td>\n",
       "      <td>21</td>\n",
       "      <td>1</td>\n",
       "      <td>NaN</td>\n",
       "      <td>1630</td>\n",
       "      <td>NaN</td>\n",
       "      <td>1729</td>\n",
       "      <td>MQ</td>\n",
       "      <td>4198</td>\n",
       "      <td>...</td>\n",
       "      <td>NaN</td>\n",
       "      <td>NaN</td>\n",
       "      <td>1</td>\n",
       "      <td>C</td>\n",
       "      <td>0</td>\n",
       "      <td>NaN</td>\n",
       "      <td>NaN</td>\n",
       "      <td>NaN</td>\n",
       "      <td>NaN</td>\n",
       "      <td>NaN</td>\n",
       "    </tr>\n",
       "  </tbody>\n",
       "</table>\n",
       "<p>1399 rows × 29 columns</p>\n",
       "</div>"
      ],
      "text/plain": [
       "       Year  Month  DayofMonth  DayOfWeek  DepTime  CRSDepTime  ArrTime  \\\n",
       "11     2008      3           6          4      NaN        1605      NaN   \n",
       "78     2008      1          19          6      NaN         750      NaN   \n",
       "103    2008      7          24          4      NaN        1230      NaN   \n",
       "112    2008      2           4          1      NaN         620      NaN   \n",
       "128    2008      1          21          1      NaN        1838      NaN   \n",
       "...     ...    ...         ...        ...      ...         ...      ...   \n",
       "69818  2008      6           9          1      NaN        1645      NaN   \n",
       "69836  2008      1          25          5      NaN         938      NaN   \n",
       "69884  2008     12          26          5      NaN        1935      NaN   \n",
       "69918  2008      3           1          6      NaN         600      NaN   \n",
       "69949  2008      1          21          1      NaN        1630      NaN   \n",
       "\n",
       "       CRSArrTime UniqueCarrier  FlightNum  ... TaxiIn  TaxiOut  Cancelled  \\\n",
       "11           1940            AA        484  ...    NaN      NaN          1   \n",
       "78            930            EV       4772  ...    NaN      NaN          1   \n",
       "103          1355            FL        816  ...    NaN      NaN          1   \n",
       "112           758            NW       1281  ...    NaN      NaN          1   \n",
       "128          2005            UA       1251  ...    NaN      NaN          1   \n",
       "...           ...           ...        ...  ...    ...      ...        ...   \n",
       "69818        1800            MQ       3627  ...    NaN      NaN          1   \n",
       "69836        1030            MQ       3254  ...    NaN      NaN          1   \n",
       "69884        2116            NW       1430  ...    NaN      NaN          1   \n",
       "69918         742            EV       4715  ...    NaN      NaN          1   \n",
       "69949        1729            MQ       4198  ...    NaN      NaN          1   \n",
       "\n",
       "       CancellationCode  Diverted  CarrierDelay WeatherDelay NASDelay  \\\n",
       "11                    B         0           NaN          NaN      NaN   \n",
       "78                    B         0           NaN          NaN      NaN   \n",
       "103                   A         0           NaN          NaN      NaN   \n",
       "112                   B         0           NaN          NaN      NaN   \n",
       "128                   A         0           NaN          NaN      NaN   \n",
       "...                 ...       ...           ...          ...      ...   \n",
       "69818                 C         0           NaN          NaN      NaN   \n",
       "69836                 B         0           NaN          NaN      NaN   \n",
       "69884                 B         0           NaN          NaN      NaN   \n",
       "69918                 A         0           NaN          NaN      NaN   \n",
       "69949                 C         0           NaN          NaN      NaN   \n",
       "\n",
       "       SecurityDelay  LateAircraftDelay  \n",
       "11               NaN                NaN  \n",
       "78               NaN                NaN  \n",
       "103              NaN                NaN  \n",
       "112              NaN                NaN  \n",
       "128              NaN                NaN  \n",
       "...              ...                ...  \n",
       "69818            NaN                NaN  \n",
       "69836            NaN                NaN  \n",
       "69884            NaN                NaN  \n",
       "69918            NaN                NaN  \n",
       "69949            NaN                NaN  \n",
       "\n",
       "[1399 rows x 29 columns]"
      ]
     },
     "execution_count": 54,
     "metadata": {},
     "output_type": "execute_result"
    }
   ],
   "source": [
    "samples_y_nan\n"
   ]
  },
  {
   "cell_type": "code",
   "execution_count": 55,
   "metadata": {},
   "outputs": [
    {
     "data": {
      "text/html": [
       "<div>\n",
       "<style scoped>\n",
       "    .dataframe tbody tr th:only-of-type {\n",
       "        vertical-align: middle;\n",
       "    }\n",
       "\n",
       "    .dataframe tbody tr th {\n",
       "        vertical-align: top;\n",
       "    }\n",
       "\n",
       "    .dataframe thead th {\n",
       "        text-align: right;\n",
       "    }\n",
       "</style>\n",
       "<table border=\"1\" class=\"dataframe\">\n",
       "  <thead>\n",
       "    <tr style=\"text-align: right;\">\n",
       "      <th></th>\n",
       "      <th>Year</th>\n",
       "      <th>Month</th>\n",
       "      <th>DayofMonth</th>\n",
       "      <th>DayOfWeek</th>\n",
       "      <th>DepTime</th>\n",
       "      <th>CRSDepTime</th>\n",
       "      <th>ArrTime</th>\n",
       "      <th>CRSArrTime</th>\n",
       "      <th>UniqueCarrier</th>\n",
       "      <th>FlightNum</th>\n",
       "      <th>...</th>\n",
       "      <th>TaxiIn</th>\n",
       "      <th>TaxiOut</th>\n",
       "      <th>Cancelled</th>\n",
       "      <th>CancellationCode</th>\n",
       "      <th>Diverted</th>\n",
       "      <th>CarrierDelay</th>\n",
       "      <th>WeatherDelay</th>\n",
       "      <th>NASDelay</th>\n",
       "      <th>SecurityDelay</th>\n",
       "      <th>LateAircraftDelay</th>\n",
       "    </tr>\n",
       "  </thead>\n",
       "  <tbody>\n",
       "    <tr>\n",
       "      <th>0</th>\n",
       "      <td>2008</td>\n",
       "      <td>6</td>\n",
       "      <td>18</td>\n",
       "      <td>3</td>\n",
       "      <td>2111.0</td>\n",
       "      <td>2055</td>\n",
       "      <td>2308.0</td>\n",
       "      <td>2300</td>\n",
       "      <td>WN</td>\n",
       "      <td>242</td>\n",
       "      <td>...</td>\n",
       "      <td>3.0</td>\n",
       "      <td>8.0</td>\n",
       "      <td>0</td>\n",
       "      <td>NaN</td>\n",
       "      <td>0</td>\n",
       "      <td>NaN</td>\n",
       "      <td>NaN</td>\n",
       "      <td>NaN</td>\n",
       "      <td>NaN</td>\n",
       "      <td>NaN</td>\n",
       "    </tr>\n",
       "    <tr>\n",
       "      <th>1</th>\n",
       "      <td>2008</td>\n",
       "      <td>6</td>\n",
       "      <td>4</td>\n",
       "      <td>3</td>\n",
       "      <td>1426.0</td>\n",
       "      <td>1410</td>\n",
       "      <td>1730.0</td>\n",
       "      <td>1728</td>\n",
       "      <td>XE</td>\n",
       "      <td>2380</td>\n",
       "      <td>...</td>\n",
       "      <td>4.0</td>\n",
       "      <td>12.0</td>\n",
       "      <td>0</td>\n",
       "      <td>NaN</td>\n",
       "      <td>0</td>\n",
       "      <td>NaN</td>\n",
       "      <td>NaN</td>\n",
       "      <td>NaN</td>\n",
       "      <td>NaN</td>\n",
       "      <td>NaN</td>\n",
       "    </tr>\n",
       "    <tr>\n",
       "      <th>2</th>\n",
       "      <td>2008</td>\n",
       "      <td>8</td>\n",
       "      <td>3</td>\n",
       "      <td>7</td>\n",
       "      <td>1143.0</td>\n",
       "      <td>1145</td>\n",
       "      <td>1501.0</td>\n",
       "      <td>1520</td>\n",
       "      <td>WN</td>\n",
       "      <td>1769</td>\n",
       "      <td>...</td>\n",
       "      <td>4.0</td>\n",
       "      <td>9.0</td>\n",
       "      <td>0</td>\n",
       "      <td>NaN</td>\n",
       "      <td>0</td>\n",
       "      <td>NaN</td>\n",
       "      <td>NaN</td>\n",
       "      <td>NaN</td>\n",
       "      <td>NaN</td>\n",
       "      <td>NaN</td>\n",
       "    </tr>\n",
       "    <tr>\n",
       "      <th>3</th>\n",
       "      <td>2008</td>\n",
       "      <td>1</td>\n",
       "      <td>23</td>\n",
       "      <td>3</td>\n",
       "      <td>1141.0</td>\n",
       "      <td>1144</td>\n",
       "      <td>1323.0</td>\n",
       "      <td>1335</td>\n",
       "      <td>OO</td>\n",
       "      <td>3802</td>\n",
       "      <td>...</td>\n",
       "      <td>4.0</td>\n",
       "      <td>19.0</td>\n",
       "      <td>0</td>\n",
       "      <td>NaN</td>\n",
       "      <td>0</td>\n",
       "      <td>NaN</td>\n",
       "      <td>NaN</td>\n",
       "      <td>NaN</td>\n",
       "      <td>NaN</td>\n",
       "      <td>NaN</td>\n",
       "    </tr>\n",
       "    <tr>\n",
       "      <th>4</th>\n",
       "      <td>2008</td>\n",
       "      <td>5</td>\n",
       "      <td>4</td>\n",
       "      <td>7</td>\n",
       "      <td>815.0</td>\n",
       "      <td>820</td>\n",
       "      <td>1243.0</td>\n",
       "      <td>1300</td>\n",
       "      <td>WN</td>\n",
       "      <td>399</td>\n",
       "      <td>...</td>\n",
       "      <td>4.0</td>\n",
       "      <td>8.0</td>\n",
       "      <td>0</td>\n",
       "      <td>NaN</td>\n",
       "      <td>0</td>\n",
       "      <td>NaN</td>\n",
       "      <td>NaN</td>\n",
       "      <td>NaN</td>\n",
       "      <td>NaN</td>\n",
       "      <td>NaN</td>\n",
       "    </tr>\n",
       "    <tr>\n",
       "      <th>...</th>\n",
       "      <td>...</td>\n",
       "      <td>...</td>\n",
       "      <td>...</td>\n",
       "      <td>...</td>\n",
       "      <td>...</td>\n",
       "      <td>...</td>\n",
       "      <td>...</td>\n",
       "      <td>...</td>\n",
       "      <td>...</td>\n",
       "      <td>...</td>\n",
       "      <td>...</td>\n",
       "      <td>...</td>\n",
       "      <td>...</td>\n",
       "      <td>...</td>\n",
       "      <td>...</td>\n",
       "      <td>...</td>\n",
       "      <td>...</td>\n",
       "      <td>...</td>\n",
       "      <td>...</td>\n",
       "      <td>...</td>\n",
       "      <td>...</td>\n",
       "    </tr>\n",
       "    <tr>\n",
       "      <th>69995</th>\n",
       "      <td>2008</td>\n",
       "      <td>5</td>\n",
       "      <td>12</td>\n",
       "      <td>1</td>\n",
       "      <td>1829.0</td>\n",
       "      <td>1840</td>\n",
       "      <td>2137.0</td>\n",
       "      <td>2149</td>\n",
       "      <td>DL</td>\n",
       "      <td>794</td>\n",
       "      <td>...</td>\n",
       "      <td>22.0</td>\n",
       "      <td>20.0</td>\n",
       "      <td>0</td>\n",
       "      <td>NaN</td>\n",
       "      <td>0</td>\n",
       "      <td>NaN</td>\n",
       "      <td>NaN</td>\n",
       "      <td>NaN</td>\n",
       "      <td>NaN</td>\n",
       "      <td>NaN</td>\n",
       "    </tr>\n",
       "    <tr>\n",
       "      <th>69996</th>\n",
       "      <td>2008</td>\n",
       "      <td>5</td>\n",
       "      <td>11</td>\n",
       "      <td>7</td>\n",
       "      <td>1149.0</td>\n",
       "      <td>1125</td>\n",
       "      <td>1336.0</td>\n",
       "      <td>1314</td>\n",
       "      <td>OO</td>\n",
       "      <td>6159</td>\n",
       "      <td>...</td>\n",
       "      <td>4.0</td>\n",
       "      <td>13.0</td>\n",
       "      <td>0</td>\n",
       "      <td>NaN</td>\n",
       "      <td>0</td>\n",
       "      <td>0.0</td>\n",
       "      <td>0.0</td>\n",
       "      <td>0.0</td>\n",
       "      <td>0.0</td>\n",
       "      <td>22.0</td>\n",
       "    </tr>\n",
       "    <tr>\n",
       "      <th>69997</th>\n",
       "      <td>2008</td>\n",
       "      <td>9</td>\n",
       "      <td>24</td>\n",
       "      <td>3</td>\n",
       "      <td>1012.0</td>\n",
       "      <td>1012</td>\n",
       "      <td>1132.0</td>\n",
       "      <td>1132</td>\n",
       "      <td>YV</td>\n",
       "      <td>7058</td>\n",
       "      <td>...</td>\n",
       "      <td>7.0</td>\n",
       "      <td>10.0</td>\n",
       "      <td>0</td>\n",
       "      <td>NaN</td>\n",
       "      <td>0</td>\n",
       "      <td>NaN</td>\n",
       "      <td>NaN</td>\n",
       "      <td>NaN</td>\n",
       "      <td>NaN</td>\n",
       "      <td>NaN</td>\n",
       "    </tr>\n",
       "    <tr>\n",
       "      <th>69998</th>\n",
       "      <td>2008</td>\n",
       "      <td>2</td>\n",
       "      <td>18</td>\n",
       "      <td>1</td>\n",
       "      <td>1906.0</td>\n",
       "      <td>1900</td>\n",
       "      <td>2200.0</td>\n",
       "      <td>2139</td>\n",
       "      <td>NW</td>\n",
       "      <td>641</td>\n",
       "      <td>...</td>\n",
       "      <td>20.0</td>\n",
       "      <td>22.0</td>\n",
       "      <td>0</td>\n",
       "      <td>NaN</td>\n",
       "      <td>0</td>\n",
       "      <td>0.0</td>\n",
       "      <td>0.0</td>\n",
       "      <td>15.0</td>\n",
       "      <td>0.0</td>\n",
       "      <td>6.0</td>\n",
       "    </tr>\n",
       "    <tr>\n",
       "      <th>69999</th>\n",
       "      <td>2008</td>\n",
       "      <td>12</td>\n",
       "      <td>6</td>\n",
       "      <td>6</td>\n",
       "      <td>859.0</td>\n",
       "      <td>900</td>\n",
       "      <td>959.0</td>\n",
       "      <td>1005</td>\n",
       "      <td>WN</td>\n",
       "      <td>510</td>\n",
       "      <td>...</td>\n",
       "      <td>2.0</td>\n",
       "      <td>12.0</td>\n",
       "      <td>0</td>\n",
       "      <td>NaN</td>\n",
       "      <td>0</td>\n",
       "      <td>NaN</td>\n",
       "      <td>NaN</td>\n",
       "      <td>NaN</td>\n",
       "      <td>NaN</td>\n",
       "      <td>NaN</td>\n",
       "    </tr>\n",
       "  </tbody>\n",
       "</table>\n",
       "<p>68601 rows × 29 columns</p>\n",
       "</div>"
      ],
      "text/plain": [
       "       Year  Month  DayofMonth  DayOfWeek  DepTime  CRSDepTime  ArrTime  \\\n",
       "0      2008      6          18          3   2111.0        2055   2308.0   \n",
       "1      2008      6           4          3   1426.0        1410   1730.0   \n",
       "2      2008      8           3          7   1143.0        1145   1501.0   \n",
       "3      2008      1          23          3   1141.0        1144   1323.0   \n",
       "4      2008      5           4          7    815.0         820   1243.0   \n",
       "...     ...    ...         ...        ...      ...         ...      ...   \n",
       "69995  2008      5          12          1   1829.0        1840   2137.0   \n",
       "69996  2008      5          11          7   1149.0        1125   1336.0   \n",
       "69997  2008      9          24          3   1012.0        1012   1132.0   \n",
       "69998  2008      2          18          1   1906.0        1900   2200.0   \n",
       "69999  2008     12           6          6    859.0         900    959.0   \n",
       "\n",
       "       CRSArrTime UniqueCarrier  FlightNum  ... TaxiIn  TaxiOut  Cancelled  \\\n",
       "0            2300            WN        242  ...    3.0      8.0          0   \n",
       "1            1728            XE       2380  ...    4.0     12.0          0   \n",
       "2            1520            WN       1769  ...    4.0      9.0          0   \n",
       "3            1335            OO       3802  ...    4.0     19.0          0   \n",
       "4            1300            WN        399  ...    4.0      8.0          0   \n",
       "...           ...           ...        ...  ...    ...      ...        ...   \n",
       "69995        2149            DL        794  ...   22.0     20.0          0   \n",
       "69996        1314            OO       6159  ...    4.0     13.0          0   \n",
       "69997        1132            YV       7058  ...    7.0     10.0          0   \n",
       "69998        2139            NW        641  ...   20.0     22.0          0   \n",
       "69999        1005            WN        510  ...    2.0     12.0          0   \n",
       "\n",
       "       CancellationCode  Diverted  CarrierDelay WeatherDelay NASDelay  \\\n",
       "0                   NaN         0           NaN          NaN      NaN   \n",
       "1                   NaN         0           NaN          NaN      NaN   \n",
       "2                   NaN         0           NaN          NaN      NaN   \n",
       "3                   NaN         0           NaN          NaN      NaN   \n",
       "4                   NaN         0           NaN          NaN      NaN   \n",
       "...                 ...       ...           ...          ...      ...   \n",
       "69995               NaN         0           NaN          NaN      NaN   \n",
       "69996               NaN         0           0.0          0.0      0.0   \n",
       "69997               NaN         0           NaN          NaN      NaN   \n",
       "69998               NaN         0           0.0          0.0     15.0   \n",
       "69999               NaN         0           NaN          NaN      NaN   \n",
       "\n",
       "       SecurityDelay  LateAircraftDelay  \n",
       "0                NaN                NaN  \n",
       "1                NaN                NaN  \n",
       "2                NaN                NaN  \n",
       "3                NaN                NaN  \n",
       "4                NaN                NaN  \n",
       "...              ...                ...  \n",
       "69995            NaN                NaN  \n",
       "69996            0.0               22.0  \n",
       "69997            NaN                NaN  \n",
       "69998            0.0                6.0  \n",
       "69999            NaN                NaN  \n",
       "\n",
       "[68601 rows x 29 columns]"
      ]
     },
     "execution_count": 55,
     "metadata": {},
     "output_type": "execute_result"
    }
   ],
   "source": [
    "samples_y_not_nan"
   ]
  },
  {
   "cell_type": "markdown",
   "metadata": {},
   "source": []
  },
  {
   "cell_type": "code",
   "execution_count": 65,
   "metadata": {},
   "outputs": [
    {
     "name": "stdout",
     "output_type": "stream",
     "text": [
      "We have 1411 flights cancelled and 1399 flights with DepDelay NaN\n"
     ]
    }
   ],
   "source": [
    "# We can see that CancellationCode and Cancelled are 'positive' only almost if DepTime is NaN, thus can be removed\n",
    "\n",
    "cancelled_samples = df[df['Cancelled'] > 0] \n",
    "\n",
    "print(f'We have {len(cancelled_samples)} flights cancelled and {len(samples_y_nan)} flights with DepDelay NaN')\n"
   ]
  },
  {
   "cell_type": "code",
   "execution_count": 71,
   "metadata": {},
   "outputs": [
    {
     "data": {
      "text/html": [
       "<div>\n",
       "<style scoped>\n",
       "    .dataframe tbody tr th:only-of-type {\n",
       "        vertical-align: middle;\n",
       "    }\n",
       "\n",
       "    .dataframe tbody tr th {\n",
       "        vertical-align: top;\n",
       "    }\n",
       "\n",
       "    .dataframe thead th {\n",
       "        text-align: right;\n",
       "    }\n",
       "</style>\n",
       "<table border=\"1\" class=\"dataframe\">\n",
       "  <thead>\n",
       "    <tr style=\"text-align: right;\">\n",
       "      <th></th>\n",
       "      <th>Year</th>\n",
       "      <th>Month</th>\n",
       "      <th>DayofMonth</th>\n",
       "      <th>DayOfWeek</th>\n",
       "      <th>DepTime</th>\n",
       "      <th>CRSDepTime</th>\n",
       "      <th>ArrTime</th>\n",
       "      <th>CRSArrTime</th>\n",
       "      <th>UniqueCarrier</th>\n",
       "      <th>FlightNum</th>\n",
       "      <th>...</th>\n",
       "      <th>TaxiIn</th>\n",
       "      <th>TaxiOut</th>\n",
       "      <th>Cancelled</th>\n",
       "      <th>CancellationCode</th>\n",
       "      <th>Diverted</th>\n",
       "      <th>CarrierDelay</th>\n",
       "      <th>WeatherDelay</th>\n",
       "      <th>NASDelay</th>\n",
       "      <th>SecurityDelay</th>\n",
       "      <th>LateAircraftDelay</th>\n",
       "    </tr>\n",
       "  </thead>\n",
       "  <tbody>\n",
       "    <tr>\n",
       "      <th>5976</th>\n",
       "      <td>2008</td>\n",
       "      <td>11</td>\n",
       "      <td>29</td>\n",
       "      <td>6</td>\n",
       "      <td>1325.0</td>\n",
       "      <td>1301</td>\n",
       "      <td>NaN</td>\n",
       "      <td>1354</td>\n",
       "      <td>EV</td>\n",
       "      <td>5401</td>\n",
       "      <td>...</td>\n",
       "      <td>NaN</td>\n",
       "      <td>NaN</td>\n",
       "      <td>1</td>\n",
       "      <td>A</td>\n",
       "      <td>0</td>\n",
       "      <td>NaN</td>\n",
       "      <td>NaN</td>\n",
       "      <td>NaN</td>\n",
       "      <td>NaN</td>\n",
       "      <td>NaN</td>\n",
       "    </tr>\n",
       "    <tr>\n",
       "      <th>15680</th>\n",
       "      <td>2008</td>\n",
       "      <td>12</td>\n",
       "      <td>19</td>\n",
       "      <td>5</td>\n",
       "      <td>954.0</td>\n",
       "      <td>935</td>\n",
       "      <td>NaN</td>\n",
       "      <td>1252</td>\n",
       "      <td>XE</td>\n",
       "      <td>2573</td>\n",
       "      <td>...</td>\n",
       "      <td>NaN</td>\n",
       "      <td>NaN</td>\n",
       "      <td>1</td>\n",
       "      <td>B</td>\n",
       "      <td>0</td>\n",
       "      <td>NaN</td>\n",
       "      <td>NaN</td>\n",
       "      <td>NaN</td>\n",
       "      <td>NaN</td>\n",
       "      <td>NaN</td>\n",
       "    </tr>\n",
       "    <tr>\n",
       "      <th>16382</th>\n",
       "      <td>2008</td>\n",
       "      <td>12</td>\n",
       "      <td>6</td>\n",
       "      <td>6</td>\n",
       "      <td>1806.0</td>\n",
       "      <td>1728</td>\n",
       "      <td>NaN</td>\n",
       "      <td>1827</td>\n",
       "      <td>OO</td>\n",
       "      <td>5790</td>\n",
       "      <td>...</td>\n",
       "      <td>NaN</td>\n",
       "      <td>11.0</td>\n",
       "      <td>1</td>\n",
       "      <td>B</td>\n",
       "      <td>0</td>\n",
       "      <td>NaN</td>\n",
       "      <td>NaN</td>\n",
       "      <td>NaN</td>\n",
       "      <td>NaN</td>\n",
       "      <td>NaN</td>\n",
       "    </tr>\n",
       "    <tr>\n",
       "      <th>20622</th>\n",
       "      <td>2008</td>\n",
       "      <td>10</td>\n",
       "      <td>7</td>\n",
       "      <td>2</td>\n",
       "      <td>844.0</td>\n",
       "      <td>845</td>\n",
       "      <td>NaN</td>\n",
       "      <td>1039</td>\n",
       "      <td>YV</td>\n",
       "      <td>7302</td>\n",
       "      <td>...</td>\n",
       "      <td>NaN</td>\n",
       "      <td>NaN</td>\n",
       "      <td>1</td>\n",
       "      <td>A</td>\n",
       "      <td>0</td>\n",
       "      <td>NaN</td>\n",
       "      <td>NaN</td>\n",
       "      <td>NaN</td>\n",
       "      <td>NaN</td>\n",
       "      <td>NaN</td>\n",
       "    </tr>\n",
       "    <tr>\n",
       "      <th>22462</th>\n",
       "      <td>2008</td>\n",
       "      <td>12</td>\n",
       "      <td>17</td>\n",
       "      <td>3</td>\n",
       "      <td>2132.0</td>\n",
       "      <td>2134</td>\n",
       "      <td>NaN</td>\n",
       "      <td>2232</td>\n",
       "      <td>YV</td>\n",
       "      <td>2859</td>\n",
       "      <td>...</td>\n",
       "      <td>NaN</td>\n",
       "      <td>28.0</td>\n",
       "      <td>1</td>\n",
       "      <td>B</td>\n",
       "      <td>0</td>\n",
       "      <td>NaN</td>\n",
       "      <td>NaN</td>\n",
       "      <td>NaN</td>\n",
       "      <td>NaN</td>\n",
       "      <td>NaN</td>\n",
       "    </tr>\n",
       "    <tr>\n",
       "      <th>30057</th>\n",
       "      <td>2008</td>\n",
       "      <td>12</td>\n",
       "      <td>9</td>\n",
       "      <td>2</td>\n",
       "      <td>1358.0</td>\n",
       "      <td>1330</td>\n",
       "      <td>NaN</td>\n",
       "      <td>1700</td>\n",
       "      <td>OO</td>\n",
       "      <td>2874</td>\n",
       "      <td>...</td>\n",
       "      <td>NaN</td>\n",
       "      <td>NaN</td>\n",
       "      <td>1</td>\n",
       "      <td>B</td>\n",
       "      <td>0</td>\n",
       "      <td>NaN</td>\n",
       "      <td>NaN</td>\n",
       "      <td>NaN</td>\n",
       "      <td>NaN</td>\n",
       "      <td>NaN</td>\n",
       "    </tr>\n",
       "    <tr>\n",
       "      <th>33611</th>\n",
       "      <td>2008</td>\n",
       "      <td>10</td>\n",
       "      <td>11</td>\n",
       "      <td>6</td>\n",
       "      <td>826.0</td>\n",
       "      <td>830</td>\n",
       "      <td>NaN</td>\n",
       "      <td>1015</td>\n",
       "      <td>OO</td>\n",
       "      <td>3721</td>\n",
       "      <td>...</td>\n",
       "      <td>NaN</td>\n",
       "      <td>NaN</td>\n",
       "      <td>1</td>\n",
       "      <td>A</td>\n",
       "      <td>0</td>\n",
       "      <td>NaN</td>\n",
       "      <td>NaN</td>\n",
       "      <td>NaN</td>\n",
       "      <td>NaN</td>\n",
       "      <td>NaN</td>\n",
       "    </tr>\n",
       "    <tr>\n",
       "      <th>37581</th>\n",
       "      <td>2008</td>\n",
       "      <td>12</td>\n",
       "      <td>3</td>\n",
       "      <td>3</td>\n",
       "      <td>2234.0</td>\n",
       "      <td>2235</td>\n",
       "      <td>NaN</td>\n",
       "      <td>2318</td>\n",
       "      <td>OO</td>\n",
       "      <td>5426</td>\n",
       "      <td>...</td>\n",
       "      <td>NaN</td>\n",
       "      <td>16.0</td>\n",
       "      <td>1</td>\n",
       "      <td>B</td>\n",
       "      <td>0</td>\n",
       "      <td>NaN</td>\n",
       "      <td>NaN</td>\n",
       "      <td>NaN</td>\n",
       "      <td>NaN</td>\n",
       "      <td>NaN</td>\n",
       "    </tr>\n",
       "    <tr>\n",
       "      <th>40343</th>\n",
       "      <td>2008</td>\n",
       "      <td>11</td>\n",
       "      <td>10</td>\n",
       "      <td>1</td>\n",
       "      <td>1440.0</td>\n",
       "      <td>1445</td>\n",
       "      <td>NaN</td>\n",
       "      <td>1731</td>\n",
       "      <td>EV</td>\n",
       "      <td>5309</td>\n",
       "      <td>...</td>\n",
       "      <td>NaN</td>\n",
       "      <td>NaN</td>\n",
       "      <td>1</td>\n",
       "      <td>A</td>\n",
       "      <td>0</td>\n",
       "      <td>NaN</td>\n",
       "      <td>NaN</td>\n",
       "      <td>NaN</td>\n",
       "      <td>NaN</td>\n",
       "      <td>NaN</td>\n",
       "    </tr>\n",
       "    <tr>\n",
       "      <th>50401</th>\n",
       "      <td>2008</td>\n",
       "      <td>11</td>\n",
       "      <td>29</td>\n",
       "      <td>6</td>\n",
       "      <td>2232.0</td>\n",
       "      <td>2234</td>\n",
       "      <td>NaN</td>\n",
       "      <td>11</td>\n",
       "      <td>OO</td>\n",
       "      <td>6412</td>\n",
       "      <td>...</td>\n",
       "      <td>NaN</td>\n",
       "      <td>21.0</td>\n",
       "      <td>1</td>\n",
       "      <td>B</td>\n",
       "      <td>0</td>\n",
       "      <td>NaN</td>\n",
       "      <td>NaN</td>\n",
       "      <td>NaN</td>\n",
       "      <td>NaN</td>\n",
       "      <td>NaN</td>\n",
       "    </tr>\n",
       "    <tr>\n",
       "      <th>50810</th>\n",
       "      <td>2008</td>\n",
       "      <td>11</td>\n",
       "      <td>19</td>\n",
       "      <td>3</td>\n",
       "      <td>1559.0</td>\n",
       "      <td>1606</td>\n",
       "      <td>NaN</td>\n",
       "      <td>1651</td>\n",
       "      <td>OO</td>\n",
       "      <td>5750</td>\n",
       "      <td>...</td>\n",
       "      <td>NaN</td>\n",
       "      <td>10.0</td>\n",
       "      <td>1</td>\n",
       "      <td>B</td>\n",
       "      <td>0</td>\n",
       "      <td>NaN</td>\n",
       "      <td>NaN</td>\n",
       "      <td>NaN</td>\n",
       "      <td>NaN</td>\n",
       "      <td>NaN</td>\n",
       "    </tr>\n",
       "    <tr>\n",
       "      <th>67078</th>\n",
       "      <td>2008</td>\n",
       "      <td>12</td>\n",
       "      <td>5</td>\n",
       "      <td>5</td>\n",
       "      <td>1517.0</td>\n",
       "      <td>1510</td>\n",
       "      <td>NaN</td>\n",
       "      <td>1615</td>\n",
       "      <td>XE</td>\n",
       "      <td>2173</td>\n",
       "      <td>...</td>\n",
       "      <td>NaN</td>\n",
       "      <td>NaN</td>\n",
       "      <td>1</td>\n",
       "      <td>A</td>\n",
       "      <td>0</td>\n",
       "      <td>NaN</td>\n",
       "      <td>NaN</td>\n",
       "      <td>NaN</td>\n",
       "      <td>NaN</td>\n",
       "      <td>NaN</td>\n",
       "    </tr>\n",
       "  </tbody>\n",
       "</table>\n",
       "<p>12 rows × 29 columns</p>\n",
       "</div>"
      ],
      "text/plain": [
       "       Year  Month  DayofMonth  DayOfWeek  DepTime  CRSDepTime  ArrTime  \\\n",
       "5976   2008     11          29          6   1325.0        1301      NaN   \n",
       "15680  2008     12          19          5    954.0         935      NaN   \n",
       "16382  2008     12           6          6   1806.0        1728      NaN   \n",
       "20622  2008     10           7          2    844.0         845      NaN   \n",
       "22462  2008     12          17          3   2132.0        2134      NaN   \n",
       "30057  2008     12           9          2   1358.0        1330      NaN   \n",
       "33611  2008     10          11          6    826.0         830      NaN   \n",
       "37581  2008     12           3          3   2234.0        2235      NaN   \n",
       "40343  2008     11          10          1   1440.0        1445      NaN   \n",
       "50401  2008     11          29          6   2232.0        2234      NaN   \n",
       "50810  2008     11          19          3   1559.0        1606      NaN   \n",
       "67078  2008     12           5          5   1517.0        1510      NaN   \n",
       "\n",
       "       CRSArrTime UniqueCarrier  FlightNum  ... TaxiIn  TaxiOut  Cancelled  \\\n",
       "5976         1354            EV       5401  ...    NaN      NaN          1   \n",
       "15680        1252            XE       2573  ...    NaN      NaN          1   \n",
       "16382        1827            OO       5790  ...    NaN     11.0          1   \n",
       "20622        1039            YV       7302  ...    NaN      NaN          1   \n",
       "22462        2232            YV       2859  ...    NaN     28.0          1   \n",
       "30057        1700            OO       2874  ...    NaN      NaN          1   \n",
       "33611        1015            OO       3721  ...    NaN      NaN          1   \n",
       "37581        2318            OO       5426  ...    NaN     16.0          1   \n",
       "40343        1731            EV       5309  ...    NaN      NaN          1   \n",
       "50401          11            OO       6412  ...    NaN     21.0          1   \n",
       "50810        1651            OO       5750  ...    NaN     10.0          1   \n",
       "67078        1615            XE       2173  ...    NaN      NaN          1   \n",
       "\n",
       "       CancellationCode  Diverted  CarrierDelay WeatherDelay NASDelay  \\\n",
       "5976                  A         0           NaN          NaN      NaN   \n",
       "15680                 B         0           NaN          NaN      NaN   \n",
       "16382                 B         0           NaN          NaN      NaN   \n",
       "20622                 A         0           NaN          NaN      NaN   \n",
       "22462                 B         0           NaN          NaN      NaN   \n",
       "30057                 B         0           NaN          NaN      NaN   \n",
       "33611                 A         0           NaN          NaN      NaN   \n",
       "37581                 B         0           NaN          NaN      NaN   \n",
       "40343                 A         0           NaN          NaN      NaN   \n",
       "50401                 B         0           NaN          NaN      NaN   \n",
       "50810                 B         0           NaN          NaN      NaN   \n",
       "67078                 A         0           NaN          NaN      NaN   \n",
       "\n",
       "       SecurityDelay  LateAircraftDelay  \n",
       "5976             NaN                NaN  \n",
       "15680            NaN                NaN  \n",
       "16382            NaN                NaN  \n",
       "20622            NaN                NaN  \n",
       "22462            NaN                NaN  \n",
       "30057            NaN                NaN  \n",
       "33611            NaN                NaN  \n",
       "37581            NaN                NaN  \n",
       "40343            NaN                NaN  \n",
       "50401            NaN                NaN  \n",
       "50810            NaN                NaN  \n",
       "67078            NaN                NaN  \n",
       "\n",
       "[12 rows x 29 columns]"
      ]
     },
     "execution_count": 71,
     "metadata": {},
     "output_type": "execute_result"
    }
   ],
   "source": [
    "# There is only 12 flights that were cancelled while DepDelay not NaN\n",
    "# Considering these samples also have DepTime present even though its status is cancelled, we are allowed to consider them as a noisy data \n",
    "# Thus we are free to conclude that features going by names 'CancellationCode' and 'Cancelled' can be removed from the dataset\n",
    "\n",
    "cancelled_with_y_not_nan = df[((df['Cancelled'] > 0) & df['DepDelay'].notna())]\n",
    "cancelled_with_y_not_nan"
   ]
  },
  {
   "cell_type": "code",
   "execution_count": 4,
   "metadata": {},
   "outputs": [],
   "source": [
    "x = df[df['DepDelay'].notna()].copy(deep=True)\n",
    "y = x['DepDelay']\n",
    "x.drop(columns=['Cancelled', 'CancellationCode','DepDelay'], inplace=True)\n"
   ]
  },
  {
   "cell_type": "markdown",
   "metadata": {},
   "source": [
    "**13.** Обратите внимание, что признаки DepTime, CRSDepTime, ArrTime, CRSArrTime приведены в формате hhmm, в связи с чем будет не вполне корректно рассматривать их как вещественные.\n",
    "\n",
    "Преобразуйте каждый признак FeatureName из указанных в пару новых признаков FeatureName\\_Hour, FeatureName\\_Minute, разделив каждое из значений на часы и минуты. Не забудьте при этом исключить исходный признак из выборки. В случае, если значение признака отсутствует, значения двух новых признаков, его заменяющих, также должны отсутствовать. \n",
    "\n",
    "Например, признак DepTime необходимо заменить на пару признаков DepTime_Hour, DepTime_Minute. При этом, например, значение 155 исходного признака будет преобразовано в значения 1 и 55 признаков DepTime_Hour, DepTime_Minute соответственно."
   ]
  },
  {
   "cell_type": "code",
   "execution_count": 5,
   "metadata": {},
   "outputs": [],
   "source": [
    "@dataclass\n",
    "class TimeConverted:\n",
    "    def __init__(self, hours: Optional[int], minutes: Optional[int]):\n",
    "        self.hours = hours\n",
    "        self.minutes = minutes\n",
    "\n",
    "    @staticmethod   \n",
    "    def convert_time_feature(timestamp):\n",
    "            \n",
    "        if np.isnan(timestamp):\n",
    "            return TimeConverted(None, None)\n",
    "        \n",
    "        timestamp = int(timestamp)\n",
    "    \n",
    "        return TimeConverted(hours=timestamp // 100, minutes=timestamp % 100)\n",
    "             "
   ]
  },
  {
   "cell_type": "code",
   "execution_count": 6,
   "metadata": {},
   "outputs": [],
   "source": [
    "# add DepTime convertion & drop original\n",
    "\n",
    "dep_time = x['DepTime'].apply(lambda x: TimeConverted.convert_time_feature(x))\n",
    "\n",
    "x['DepTime_Hour'] = dep_time.apply(lambda x: x.hours)\n",
    "x['DepTime_Minute'] = dep_time.apply(lambda x: x.minutes)\n",
    "x.drop(columns=['DepTime'], inplace=True)\n",
    "\n",
    "\n",
    "# add CRSDepTime convertion & drop original\n",
    "\n",
    "src_dep_time = x['CRSDepTime'].apply(lambda x: TimeConverted.convert_time_feature(x))\n",
    "x['CRSDepTime_Hour'] = src_dep_time.apply(lambda x: x.hours)\n",
    "x['CRSDepTime_Minute'] = src_dep_time.apply(lambda x: x.minutes)\n",
    "x.drop(columns=['CRSDepTime'], inplace=True)\n",
    "\n",
    "# add ArrTime convertion & drop original\n",
    "\n",
    "arr_time = x['ArrTime'].apply(lambda x: TimeConverted.convert_time_feature(x))\n",
    "x['ArrTime_Hour'] = arr_time.apply(lambda x: x.hours)\n",
    "x['ArrTime_Minute'] = arr_time.apply(lambda x: x.minutes)\n",
    "x.drop(columns=['ArrTime'], inplace=True)\n",
    "\n",
    "# add CRSArrTime convertion & drop original\n",
    "\n",
    "crs_arr_time = x['CRSArrTime'].apply(lambda x: TimeConverted.convert_time_feature(x))\n",
    "x['CRSArrTime_Hour'] = arr_time.apply(lambda x: x.hours)\n",
    "x['CRSArrTime_Minute'] = arr_time.apply(lambda x: x.minutes)\n",
    "x.drop(columns=['CRSArrTime'], inplace=True)\n",
    "\n"
   ]
  },
  {
   "cell_type": "markdown",
   "metadata": {},
   "source": [
    "**14.** Некоторые из признаков, отличных от целевой переменной, могут оказывать чересчур значимое влияние на прогноз, поскольку по своему смыслу содержат большую долю информации о значении целевой переменной. Изучите описание датасета и исключите признаки, сильно коррелирующие с ответами. Ваш выбор признаков для исключения из выборки обоснуйте. Кроме того, исключите признаки TailNum и Year."
   ]
  },
  {
   "cell_type": "code",
   "execution_count": 50,
   "metadata": {
    "collapsed": true
   },
   "outputs": [
    {
     "name": "stdout",
     "output_type": "stream",
     "text": [
      "The number of rows where ArrDelay equals DepDelay is 2596 out of 70000.\n",
      "Which is 3.71% of all items.\n"
     ]
    }
   ],
   "source": [
    "# It seems like the feature that is too tied to target variable is ArrDelay. In some cases it even mirrors the target variable,\n",
    "# like can be seen from the code below\n",
    "\n",
    "arr_dep_equality = df[df['DepDelay'] == df['ArrDelay']]\n",
    "len_all = len(df.index)\n",
    "len_equal = len(arr_dep_equality.index)\n",
    "print(f'The number of rows where ArrDelay equals DepDelay is {len_equal} out of {len_all}.\\n'\n",
    "     f'Which is {(len_equal / len_all) * 100:.2f}% of all items.')\n"
   ]
  },
  {
   "cell_type": "code",
   "execution_count": 7,
   "metadata": {},
   "outputs": [],
   "source": [
    "# I consider this percentage to be enough to say that ArrDelay should be removed from features\n",
    "x.drop(columns=['ArrDelay', 'TailNum', 'Year'], inplace=True)"
   ]
  },
  {
   "cell_type": "markdown",
   "metadata": {},
   "source": [
    "**15.** Приведем данные к виду, пригодному для обучения линейных моделей. Для этого вещественные признаки надо отмасштабировать, а категориальные — привести к числовому виду. Также надо устранить пропуски в данных."
   ]
  },
  {
   "cell_type": "markdown",
   "metadata": {},
   "source": [
    "В первую очередь поймем, зачем необходимо применять масштабирование. Следующие ячейки с кодом построят гистограммы для 3 вещественных признаков выборки."
   ]
  },
  {
   "cell_type": "code",
   "execution_count": 9,
   "metadata": {
    "scrolled": true
   },
   "outputs": [
    {
     "data": {
      "text/plain": [
       "<AxesSubplot:>"
      ]
     },
     "execution_count": 9,
     "metadata": {},
     "output_type": "execute_result"
    },
    {
     "data": {
      "image/png": "[encoded data removed]",
      "text/plain": [
       "<Figure size 432x288 with 1 Axes>"
      ]
     },
     "metadata": {
      "needs_background": "light"
     },
     "output_type": "display_data"
    }
   ],
   "source": [
    "x['DepTime_Hour'].hist(bins=20)"
   ]
  },
  {
   "cell_type": "code",
   "execution_count": 10,
   "metadata": {},
   "outputs": [
    {
     "data": {
      "text/plain": [
       "<AxesSubplot:>"
      ]
     },
     "execution_count": 10,
     "metadata": {},
     "output_type": "execute_result"
    },
    {
     "data": {
      "image/png": "[encoded data removed]",
      "text/plain": [
       "<Figure size 432x288 with 1 Axes>"
      ]
     },
     "metadata": {
      "needs_background": "light"
     },
     "output_type": "display_data"
    }
   ],
   "source": [
    "x['TaxiIn'].hist(bins=20)"
   ]
  },
  {
   "cell_type": "code",
   "execution_count": 11,
   "metadata": {},
   "outputs": [
    {
     "data": {
      "text/plain": [
       "<AxesSubplot:>"
      ]
     },
     "execution_count": 11,
     "metadata": {},
     "output_type": "execute_result"
    },
    {
     "data": {
      "image/png": "[encoded data removed]",
      "text/plain": [
       "<Figure size 432x288 with 1 Axes>"
      ]
     },
     "metadata": {
      "needs_background": "light"
     },
     "output_type": "display_data"
    }
   ],
   "source": [
    "x['FlightNum'].hist(bins=20)"
   ]
  },
  {
   "cell_type": "markdown",
   "metadata": {},
   "source": [
    "Какую проблему вы наблюдаете на этих графиках? Как масштабирование поможет её исправить?"
   ]
  },
  {
   "cell_type": "markdown",
   "metadata": {},
   "source": [
    "<br>*The features are inconsistent at ranges (i.e. (0-24), (0-8000))</br> \n",
    "Scaling is supposed to make them scale the same way.*"
   ]
  },
  {
   "cell_type": "markdown",
   "metadata": {},
   "source": [
    "Некоторые из признаков в нашем датасете являются категориальными. Типичным подходом к работе с ними является бинарное, или [one-hot-кодирование](https://en.wikipedia.org/wiki/One-hot).\n",
    "\n",
    "Реализуйте функцию transform_data, которая принимает на вход DataFrame с признаками и выполняет следующие шаги:\n",
    "1. Замена пропущенных значений на нули для вещественных признаков и на строки 'nan' для категориальных.\n",
    "2. Масштабирование вещественных признаков с помощью [StandardScaler](http://scikit-learn.org/stable/modules/generated/sklearn.preprocessing.StandardScaler.html).\n",
    "3. One-hot-кодирование категориальных признаков с помощью [DictVectorizer](http://scikit-learn.org/stable/modules/generated/sklearn.feature_extraction.DictVectorizer.html) или функции [pd.get_dummies](http://pandas.pydata.org/pandas-docs/stable/generated/pandas.get_dummies.html).\n",
    "\n",
    "Метод должен возвращать преобразованный DataFrame, который должна состоять из масштабированных вещественных признаков и закодированных категориальных (исходные признаки должны быть исключены из выборки)."
   ]
  },
  {
   "cell_type": "code",
   "execution_count": 8,
   "metadata": {
    "collapsed": true
   },
   "outputs": [],
   "source": [
    "def transform_data(data):\n",
    "    \n",
    "    x_category = data.select_dtypes(include='object').fillna('nan')\n",
    "    x_numeric = data.drop(columns=x_category.columns.values).fillna(0)\n",
    "\n",
    "    # Scale numeric batch\n",
    "\n",
    "    st = StandardScaler()\n",
    "    scaled_x = pd.DataFrame(data=st.fit_transform(x_numeric), index=x_numeric.index, columns=x_numeric.columns)\n",
    "\n",
    "\n",
    "    # Vectorize category batch\n",
    "\n",
    "    vectorized_x = pd.get_dummies(x_category)\n",
    "\n",
    "    # Combine\n",
    "\n",
    "    return scaled_x.join(vectorized_x)\n",
    "\n",
    "\n"
   ]
  },
  {
   "cell_type": "markdown",
   "metadata": {},
   "source": [
    "Примените функцию transform_data к данным. Сколько признаков получилось после преобразования?"
   ]
  },
  {
   "cell_type": "code",
   "execution_count": 9,
   "metadata": {
    "collapsed": false,
    "pycharm": {
     "name": "#%%\n"
    }
   },
   "outputs": [],
   "source": [
    "x_preprocessed = transform_data(x)"
   ]
  },
  {
   "cell_type": "code",
   "execution_count": 17,
   "metadata": {},
   "outputs": [
    {
     "name": "stdout",
     "output_type": "stream",
     "text": [
      "After preprocessing we ended up with 638 features\n"
     ]
    }
   ],
   "source": [
    "print(f'After preprocessing we ended up with {len(x_preprocessed.columns)} features')"
   ]
  },
  {
   "cell_type": "markdown",
   "metadata": {},
   "source": [
    "**16. (0.5 балла)** Разбейте выборку и вектор целевой переменной на обучение и контроль в отношении 70/30 (для этого можно использовать, например, функцию [train_test_split](http://scikit-learn.org/stable/modules/generated/sklearn.cross_validation.train_test_split.html)). "
   ]
  },
  {
   "cell_type": "code",
   "execution_count": 10,
   "metadata": {
    "collapsed": true
   },
   "outputs": [],
   "source": [
    "x_train, x_test, y_train, y_test = train_test_split(x_preprocessed, y, test_size=0.30, random_state=42)"
   ]
  },
  {
   "cell_type": "markdown",
   "metadata": {},
   "source": [
    "### Scikit-learn\n",
    "\n",
    "<img src = \"https://pp.vk.me/c4534/u35727827/93547647/x_d31c4463.jpg\">\n",
    "Теперь, когда мы привели данные к пригодному виду, попробуем решить задачу при помощи метода наименьших квадратов. Напомним, что данный метод заключается в оптимизации функционала $MSE$:\n",
    "\n",
    "$$MSE(X, y) = \\frac{1}{l} \\sum_{i=1}^l (<w, x_i> - y_i)^2 \\to \\min_{w},$$\n",
    "\n",
    "где $\\{ (x_i, y_i ) \\}_{i=1}^l$ — обучающая выборка, состоящая из $l$ пар объект-ответ.\n",
    "\n",
    "Заметим, что решение данной задачи уже реализовано в модуле sklearn в виде класса [LinearRegression](http://scikit-learn.org/stable/modules/generated/sklearn.linear_model.LinearRegression.html#sklearn.linear_model.LinearRegression).\n",
    "\n",
    "**17.** Обучите линейную регрессию на 1000 объектах из обучающей выборки и выведите значения $MSE$ и $R^2$ на этой подвыборке и контрольной выборке (итого 4 различных числа). Проинтерпретируйте полученный результат — насколько качественные прогнозы строит полученная модель? Какие проблемы наблюдаются в модели?\n",
    "\n",
    "**Подсказка**: изучите значения полученных коэффициентов $w$, сохраненных в атрибуте coef_ объекта LinearRegression."
   ]
  },
  {
   "cell_type": "code",
   "execution_count": 11,
   "metadata": {
    "collapsed": true
   },
   "outputs": [
    {
     "name": "stdout",
     "output_type": "stream",
     "text": [
      "MSE score for train_1000_samples is 1.7025312610678624e-25\n",
      "R^2 score for train_1000_samples is 1.0\n",
      "MSE score for test_samples is 5847.798540498148\n",
      "R^2 score for test_samples is -3.8240522457354214\n"
     ]
    }
   ],
   "source": [
    "lr = LinearRegression()\n",
    "x_thousand = x_train[0:1000]\n",
    "y_thousand = y_train[0:1000]\n",
    "lr.fit(x_thousand, y_thousand)\n",
    "\n",
    "## MSE TRAIN 1000\n",
    "\n",
    "y_pred_thousand = lr.predict(x_thousand)\n",
    "mse_score_thousand = mean_squared_error(y_thousand.values, y_pred_thousand)\n",
    "print(f'MSE score for train_1000_samples is {mse_score_thousand}')\n",
    "\n",
    "#R2 TRAIN 1000\n",
    "\n",
    "r2_score_thousand = lr.score(x_thousand, y_thousand)\n",
    "print(f'R^2 score for train_1000_samples is {r2_score_thousand}')\n",
    "\n",
    "# MSE TEST\n",
    "\n",
    "y_pred_test = lr.predict(x_test)\n",
    "mse_score_test = mean_squared_error(y_test, y_pred_test)\n",
    "print(f'MSE score for test_samples is {mse_score_test}')\n",
    "\n",
    "#R2 TEST\n",
    "\n",
    "r2_score_test = lr.score(x_test, y_test)\n",
    "print(f'R^2 score for test_samples is {r2_score_test}')"
   ]
  },
  {
   "cell_type": "code",
   "execution_count": 69,
   "metadata": {
    "collapsed": false,
    "pycharm": {
     "name": "#%%\n"
    }
   },
   "outputs": [
    {
     "name": "stdout",
     "output_type": "stream",
     "text": [
      "Top 10 max weights are [  0.39474443   0.39474443   0.39474443   0.39474443   0.39474443\n",
      "   0.39474443   0.61856282   2.04533092  17.72575141 286.69807677]\n",
      "Top 10 min weights are [-2.77175712e+02 -1.78416056e+01 -2.04533092e+00 -6.18562819e-01\n",
      " -5.83486413e-01 -1.09891460e-01 -1.04437643e-01 -8.79215140e-02\n",
      " -8.61453846e-02 -8.61453846e-02]\n"
     ]
    }
   ],
   "source": [
    "sorted_weights = np.sort(lr.coef_)\n",
    "print(f'Top 10 max weights are {sorted_weights[-10:]}')\n",
    "print(f'Top 10 min weights are {sorted_weights[0:10]}')\n"
   ]
  },
  {
   "cell_type": "markdown",
   "metadata": {
    "collapsed": false,
    "pycharm": {
     "name": "#%% md\n"
    }
   },
   "source": [
    "MSE for this model is enormous, it basically doesn't work at all, clearly being over-fitted to those first 1000 samples we got from train set.\n",
    "Some features got extremely high or low weights thus being overestimated by the model. For this particular reason 'algorithms with regularization' were introduced.\n"
   ]
  },
  {
   "cell_type": "markdown",
   "metadata": {
    "collapsed": true
   },
   "source": [
    "Для решения описанных вами в предыдущем пункте проблем используем L1- или L2-регуляризацию, тем самым получив Lasso и Ridge регрессии соответственно и изменив оптимизационную задачу одним из следующих образов:\n",
    "$$MSE_{L1}(X, y) = \\frac{1}{l} \\sum_{i=1}^l (<w, x_i> - y_i)^2 + \\alpha ||w||_1 \\to \\min_{w},$$\n",
    "$$MSE_{L2}(X, y) = \\frac{1}{l} \\sum_{i=1}^l (<w, x_i> - y_i)^2 + \\alpha ||w||_2^2 \\to \\min_{w},$$\n",
    "\n",
    "где $\\alpha$ — коэффициент регуляризации. Один из способов его подбора заключается в переборе некоторого количества значений и оценке качества на кросс-валидации для каждого из них, после чего выбирается значение, для которого было получено наилучшее качество.\n",
    "\n",
    "**18.** Обучите линейные регрессии с L1- и L2-регуляризатором, подобрав лучшее значение параметра регуляризации из списка alpha_grid при помощи кросс-валидации c 5 фолдами на тех же 1000 объектах, что и в п.17. Выведите значения $MSE$ и $R^2$ на обучающей и контрольной выборках. Удалось ли решить указанные вами ранее проблемы?\n",
    "\n",
    "Для выполнения данного задания вам могут понадобиться реализованные в библиотеке объекты [LassoCV](http://scikit-learn.org/stable/modules/generated/sklearn.linear_model.LassoCV.html), [RidgeCV](http://scikit-learn.org/stable/modules/generated/sklearn.linear_model.RidgeCV.html) и [KFold](http://scikit-learn.org/stable/modules/generated/sklearn.cross_validation.KFold.html).\n"
   ]
  },
  {
   "cell_type": "code",
   "execution_count": 12,
   "metadata": {},
   "outputs": [
    {
     "name": "stdout",
     "output_type": "stream",
     "text": [
      "Lasso MSE score for test_samples is 957.2701893777696\n",
      "Lasso R^2 score for test_samples is 0.2103145525854554\n",
      "Ridge MSE score for test_samples is 2824.0050351278483\n",
      "Ridge R^2 score for test_samples is -1.3296198966724555\n"
     ]
    }
   ],
   "source": [
    "lasso = LassoCV(cv=5, tol=0.01).fit(x_thousand, y_thousand)\n",
    "ridge = RidgeCV(cv=5).fit(x_thousand, y_thousand)\n",
    "\n",
    "alphas = np.linspace(-6,6,50)\n",
    "\n",
    "# LASSO METRICS\n",
    "\n",
    "y_pred_test_lasso = lasso.predict(x_test)\n",
    "mse_score_test_lasso = mean_squared_error(y_test, y_pred_test_lasso)\n",
    "print(f'Lasso MSE score for test_samples is {mse_score_test_lasso}')\n",
    "print(f'Lasso R^2 score for test_samples is {lasso.score(x_test, y_test)}')\n",
    "\n",
    "# RIDGE METRICS\n",
    "\n",
    "y_pred_test_ridge = ridge.predict(x_test)\n",
    "mse_score_test_ridge = mean_squared_error(y_test, y_pred_test_ridge)\n",
    "print(f'Ridge MSE score for test_samples is {mse_score_test_ridge}')\n",
    "print(f'Ridge R^2 score for test_samples is {ridge.score(x_test, y_test)}')"
   ]
  },
  {
   "cell_type": "markdown",
   "metadata": {
    "collapsed": false,
    "pycharm": {
     "name": "#%% md\n"
    }
   },
   "source": [
    "It is still extremely far from acceptable results, but already shows a better performance that the basic LinearRegression model.\n"
   ]
  },
  {
   "cell_type": "markdown",
   "metadata": {},
   "source": [
    "### Градиентный спуск\n",
    "\n",
    "В предыдущем разделе мы использовали существующие реализации методов обучения линейной регрессии с регуляризацией и без. Тем не менее, подобные реализации, как правило, имеются лишь для ограниченного набора стандартных методов. В частности, при выходе функционала качества за пределы стандартного множества необходимо самостоятельно реализовывать составляющие процесса решения оптимизационной задачи. Именно этому и посвящен данный раздел задания.\n",
    "\n",
    "Пусть необходимо минимизировать следующий функционал (Mean Square Percentage Error — модифицированный [RMSPE](https://www.kaggle.com/c/rossmann-store-sales/details/evaluation)):\n",
    "$$MSPE(\\{x_i, y_i\\}_{i=1}^l, \\, w) = \\frac{1}{l}\\sum_{i=1}^l \\left( \\frac{y_i - \\langle w, x_i \\rangle }{y_i} \\right)^2,$$\n",
    "\n",
    "где $\\{x_i, y_i\\}_{i=1}^l$ — обучающая выборка, $w$ — вектор весов линейной модели. Будем также рассматривать функционал $MSPE$ с L2-регуляризацией:\n",
    "\n",
    "$$MSPE(\\{x_i, y_i\\}_{i=1}^l, \\, w) = \\frac{1}{l}\\sum_{i=1}^l \\left( \\frac{y_i - \\langle w, x_i \\rangle }{y_i} \\right)^2 + ||w||_2^2.$$\n",
    "\n",
    "**19.** Добавьте к объектам обеих выборок из п. 16 единичный признак."
   ]
  },
  {
   "cell_type": "code",
   "execution_count": null,
   "metadata": {},
   "outputs": [],
   "source": [
    "# Implemented in one class (LinearRegrssionMPSE) in a cell down the page"
   ]
  },
  {
   "cell_type": "markdown",
   "metadata": {},
   "source": [
    "**20.** Реализуйте функции, которые вычисляют:\n",
    " * прогнозы линейной модели;\n",
    " * функционал $MSPE$ и его градиент;\n",
    " * регуляризованный $MSPE$ и его градиент."
   ]
  },
  {
   "cell_type": "code",
   "execution_count": null,
   "metadata": {},
   "outputs": [],
   "source": [
    "# Implemented in one class (LinearRegrssionMPSE) in a cell down the page"
   ]
  },
  {
   "cell_type": "markdown",
   "metadata": {},
   "source": [
    "**21.** Реализуйте метод градиентного спуска для описанных функционалов ($MSPE$ и его регуляризованный вариант). Функция должна принимать следующие параметры:\n",
    " - X — матрица \"объект-признак\";\n",
    " - y — вектор целевой переменной;\n",
    " - w0 — начальное значение вектора весов;\n",
    " - step_size — значение темпа обучения;\n",
    " - max_iter — максимальное число итераций;\n",
    " - eps — значение, используемое в критерии останова;\n",
    " - is_reg — бинарный параметр, принимает значение True в случае наличия регуляризации функционала, False — в противном случае.\n",
    " \n",
    "Процесс должен быть остановлен, если выполнено хотя бы одно из следующих условий:\n",
    " - было выполнено заданное количество итераций max_iter;\n",
    " - евклидова норма разности векторов $w$ на соседних итерациях стала меньше, чем eps.\n",
    "\n",
    "Функция должна возвращать полученный в результате оптимизации вектор $w$ и список значений функционала на каждой итерации."
   ]
  },
  {
   "cell_type": "code",
   "execution_count": 101,
   "metadata": {},
   "outputs": [],
   "source": [
    "# CLASS THAT IMPLEMENTS 19,20,21 TASKS\n",
    "\n",
    "\n",
    "class LinearRegressionMSPE():\n",
    "    def __init__(self, max_iter = 1000, step_size = 0.001,  is_reg = False, lamda = 0.01):\n",
    "        self.__max_iter: int = max_iter\n",
    "        self.__step_size: float = step_size\n",
    "        self.__is_reg: bool = is_reg\n",
    "        self.__lamda: float = lamda\n",
    "        self.__w: Optional[np.ndarray] = None\n",
    "        self.__history: Optional[list] = None\n",
    "        \n",
    "    def get_cost_history(self):\n",
    "        \n",
    "        if self.__history is None:\n",
    "            raise Exception('There is no history yet, consider fitting data to the model.')\n",
    "        \n",
    "        return self.__history \n",
    "        \n",
    "    def get_coef(self):\n",
    "        return self.__w\n",
    "        \n",
    "    def get_init_params(self):\n",
    "        return {'max_iter': self.__max_iter,\n",
    "                'step_size': self.__step_size,\n",
    "                'is_regularized': self.__is_reg,\n",
    "                'regularization coef': self.__lamda}\n",
    "    def _set_cost_history(self, history: list):\n",
    "        self.__history = history    \n",
    "    \n",
    "    def _set_coef(self, new_w):\n",
    "        self.__w = new_w\n",
    "    \n",
    "    # Task 21\n",
    "    def grad_descent(self, X, y, eps: float):\n",
    "        \n",
    "        X, y = self._preprocess_input(X, y)\n",
    "        \n",
    "        if not self.__w:\n",
    "            self._set_coef(np.random.rand(X.shape[1]))\n",
    "            \n",
    "        \n",
    "        m = len(y)\n",
    "        J_history = []\n",
    "        w_prev = None\n",
    "        \n",
    "        for _ in range(self.__max_iter):\n",
    "            \n",
    "            if w_prev is not None and np.linalg.norm(w_prev - self.__w) < eps:\n",
    "                break\n",
    "            \n",
    "            w_prev = self.__w.copy()\n",
    "            new_w = self.__w - self.__step_size / m * self._grad_func(X, y)\n",
    "            self._set_coef(new_w=new_w)\n",
    "            # Save the cost J in every iteration\n",
    "            cost = self._cost_func(X, y)\n",
    "            # print(f'{i}:{cost}')\n",
    "            J_history.append(cost)\n",
    "            \n",
    "        print(J_history[-100:])\n",
    "        \n",
    "        self._set_cost_history(J_history)\n",
    "\n",
    "        return self\n",
    "    \n",
    "    \n",
    "    # Task 19\n",
    "    def _preprocess_input(self, X: pd.DataFrame, y: Optional[pd.DataFrame] = None):\n",
    "          \n",
    "        X = X.to_numpy()\n",
    "        X  = np.hstack((np.ones((X.shape[0], 1)), X))\n",
    "        \n",
    "        if y is None:\n",
    "            return X\n",
    "        else: \n",
    "            return (X, y.to_numpy())\n",
    "        \n",
    "    \n",
    "    # Task 21     \n",
    "    def _cost_func(self, X, y):\n",
    "        if self.__is_reg:\n",
    "            return self._get_reg_func(X, y)\n",
    "        else:\n",
    "            return self._get_func(X, y)\n",
    "    # Task 21    \n",
    "    def _grad_func(self, X, y):\n",
    "        if self.__is_reg:\n",
    "            return self._get_reg_grad(X, y, self.__lamda)\n",
    "        else: \n",
    "            return self._get_grad(X, y)\n",
    "    \n",
    "    \n",
    "    #Task 20    \n",
    "    # возвращает вектор прогнозов линейной модели с вектором весов w для выборки X\n",
    "    def _make_pred(self, X: np.ndarray):\n",
    "        return np.matmul(X, self.__w)\n",
    "       \n",
    "    def predict(self, X: pd.DataFrame):\n",
    "        x = self._preprocess_input(X)\n",
    "        return self._make_pred(x)\n",
    "    \n",
    "    #Task 20\n",
    "    # возвращает значение функционала MSPE для выборки (X, y) и вектора весов w\n",
    "    def _get_func(self, X, y):\n",
    "        prediction = self._make_pred(X)\n",
    "        m = len(y)\n",
    "        return (1 / m) * (np.mean(np.square(((y - prediction) / prediction))))\n",
    "    \n",
    "    # Task 20\n",
    "    # возвращает градиент функционала MSPE для выборки (X, y) и вектора весов w\n",
    "    def _get_grad(self, X: np.ndarray, y):\n",
    "        hc = self._make_pred(X) - y\n",
    "        return np.matmul(X.transpose(), hc)\n",
    "    \n",
    "    # Task 20\n",
    "    # возвращает значение регуляризованного функционала MSPE для выборки (X, y) и вектора весов w\n",
    "    # As we need L2 regularization we just add it with corresponding parameter\n",
    "    def _get_reg_func(self, X, y):\n",
    "        prediction = self._make_pred(X)\n",
    "        return np.mean(np.square(((y - prediction) / prediction))) + np.linalg.norm(self.__w, ord=2)\n",
    "    \n",
    "    # Task 20\n",
    "    # возвращает градиент регуляризованного функционала MSPE для выборки (X, y) и вектора весов w\n",
    "    # I also added 'lamda' param which is basically a regularization coef\n",
    "    def _get_reg_grad(self, X: np.ndarray, y: np.ndarray, lamda: float):\n",
    "        hc = self._make_pred(X) - y\n",
    "        return (np.matmul(X.transpose(), hc) + (lamda * self.__w))\n",
    "    \n",
    "          \n",
    "\n",
    "\n",
    "        \n",
    "        "
   ]
  },
  {
   "cell_type": "code",
   "execution_count": 97,
   "metadata": {},
   "outputs": [
    {
     "name": "stdout",
     "output_type": "stream",
     "text": [
      "[0.7020638941071604, 2.0627965318309536, 0.6017463139463354, 0.7823945982690282, 0.9874263639025388, 1.475871221259279, 13.964806311107619, 16.97902446822573, 0.6316438884211273, 6653.915025935789, 0.3450230285216306, 0.8495964904203018, 13.74405275383416, 0.665653930245468, 1.1890494106506337, 24.907740761672713, 0.428127008381323, 0.7968160244811333, 0.6725692066404784, 5.739139790991933, 4.259423194335175, 0.6704929242154039, 0.6377661924563931, 8.735113301348626, 0.8715272771202247, 9.706712761479547, 1.2857511956273753, 0.46231008994681055, 10.713932168227345, 14.936733197408293, 10.09219710990168, 6.130810762189639, 7.401449924817514, 0.3096364260774841, 0.23452442108067614, 1.0211009669611661, 0.38533887782588505, 0.36863957494942223, 5.554560341043158, 3.9020716432980085, 1.0074222077966346, 0.15152489673446407, 267.8439525833558, 0.6632431692597356, 0.7111151054928915, 0.8922209615817663, 0.6337192533421976, 7.213022522573336, 12.899887965510882, 28.435903222682377, 0.7529801881159566, 0.4176774058816122, 3.168998625871298, 7.422683916655472, 12.921496014527843, 1.6385531319645652, 1.950038820629926, 0.703975048234843, 100.73293561207537, 22.769109522919557, 0.5487534792502085, 3.8605237016683356, 55.17941537693194, 2.85715928065043, 117.6050985702219, 0.3531149187113944, 0.1306222859081345, 1.0378839121180838, 2.428646236005681, 0.7909053977151489, 20.256245397814933, 46883.0514498695, 1.3377413763976078, 0.9966878540285256, 41.4745079474267, 6.085866451527543, 0.4527161754852781, 1.1389132450670088, 1.795362482437028, 23.19603873713462, 0.5155422069619277, 15.505327278555532, 1.4743528411327693, 2.97736958082517, 0.5784648077304171, 5.503594212549557, 78.40696434667738, 7.448247761857507, 18713.17271937604, 0.8925206726401419, 7.678058023360227, 14.000509427574809, 3.7606932307672607, 3.831392160001898, 129.2915598323993, 8.57870693754042, 1.0116902432583925, 3.6885435269749003, 6.64959355541895, 1.1914877573955875]\n",
      "[66752.24523086898, 1302881.7391355564, 135402.34626162465, 21171.903524211633, 11203.539743204481, 84104.17188532454, 18511.091809103727, 23382.246094735994, 176486.96013038862, 130013.1805720936, 1094125.5435052854, 100686825.11496603, 272780.6284888587, 1625410.4937139077, 118380.85075557888, 76350.57424520185, 202303.81762497386, 42399.9885825579, 12305.260699319328, 70105.1699625239, 363871.04373082425, 40342.90257665325, 131121.20396328182, 928200.7933031829, 41866.40877669021, 353953.36071494134, 105129.60277829769, 31174.797470354242, 11268.557082650233, 248293.73939528898, 10601.631947788614, 87139.29348371511, 44498.37139318837, 711793.1446621007, 14323.822446632686, 412323.96363147197, 92467.47411316098, 7046685.832520252, 294763.99144685135, 766882.5683281487, 237201.5940387892, 266218.0512605069, 189174.963727234, 82441.80636634603, 50568.006723658684, 27217.913089671412, 10724.956916387591, 40735.426641525984, 111615.69386702946, 101901.68069945084, 656149.1601109107, 52922.87567077983, 167550.98378342122, 110555.9792766971, 276678.5458042348, 9424396.954505008, 172828.8389241617, 37707.471316763804, 36474.2635493818, 9361550.38361245, 519679.2702593691, 331703.6787827073, 95352.72818055989, 47346.182819999194, 35086.33036664691, 1575860.9366124554, 66091.72281295597, 466497632.96057934, 52003.9499489016, 798814.1279171809, 5874132.390008195, 40758.642012651566, 24726.491674686906, 46047371.26719109, 71519.92164550615, 1188671.1404258122, 17805240.407998096, 62023.015615171615, 31093.07929601149, 129129.2460984869, 27956.282464820488, 6249920.4185797395, 572597.7741984186, 75819.51368642549, 26435.840705195795, 1276264.2052219696, 21873.680969255598, 21814.46578180247, 26411.633865300308, 473639.90006846597, 92725.31145705063, 372465.1007467861, 78157.90067011402, 320033.85917693074, 89892.47487978345, 17923.42889071898, 2665721.0723602558, 84897.35531836415, 19763.86118460039, 33321.86272331251]\n"
     ]
    }
   ],
   "source": [
    "# TRAIN MODELS\n",
    "\n",
    "# ln_mspe_default = LinearRegressionMSPE()\n",
    "# res = ln_mspe_default.grad_descent(X=x_train, y=y_train, eps=0.01)\n",
    "\n",
    "# ln_mspe_reg = LinearRegressionMSPE(is_reg=True)\n",
    "# res_reg = ln_mspe_reg.grad_descent(x_train, y_train, eps=0.01)\n"
   ]
  },
  {
   "cell_type": "markdown",
   "metadata": {},
   "source": [
    "Обучите линейную регрессию с функционалом $MSPE$ на обучающей выборке при помощи метода градиентного спуска и изобразите кривые зависимости значения функционала от номера итерации для различных:\n",
    " * значений размера шага из набора [0.001, 1, 10];\n",
    " * способов начальной инициализации вектора весов (нули, случайные веса).\n",
    "\n",
    "Проанализируйте полученные результаты — влияют ли данные параметры на скорость сходимости и итоговое качество? Если да, то как?"
   ]
  },
  {
   "cell_type": "code",
   "execution_count": 103,
   "metadata": {
    "collapsed": true
   },
   "outputs": [
    {
     "name": "stdout",
     "output_type": "stream",
     "text": [
      "[0.3483484397838674, 4.070073515097906, 1.5966275732571622, 0.8590498936153822, 3.6532617365571074, 6.306473254722351, 0.42772891089471776, 516.5939496716612, 1.279583186846347, 1.1990581497422852, 1.812497795083749, 14.943103157074964, 3.781000736832043, 14.313587803311329, 283.6909137722233, 1.1557731090084467, 0.7217379912174513, 30.430428382501873, 7.342720195900281, 1.1665072933934009, 912.9907564849905, 1.561426970725186, 0.9970794103086287, 2.183334113587793, 0.6291583932554343, 0.5649061205407685, 12.986091011908334, 17.520293891059502, 2.0804560784281554, 2.4528608117301633, 2.2459750603580315, 0.8790679806705272, 4.235446470753462, 4.38711857051205, 4.07017308739236, 13.115007133018912, 1.3033695398281404, 167.3125025919469, 7.895458192714977, 290.44383084432326, 0.7102871643525615, 7.06620724588482, 3.655719279331787, 14.707152980783771, 47.64688677147311, 1.2843090165281943, 0.35109295347037117, 0.4151379036938068, 4.454031435834428, 8.103863950052336, 5.537793033492619, 0.2962234139751327, 5.039718550444898, 12.4372420295409, 1.1645594418852958, 0.602143771437582, 4.361508733794181, 3.9698037797190397, 0.7354193777058528, 7.1967667851906425, 0.72615692123796, 52.371446270888946, 0.8510427162526015, 3.8395046739925687, 7.543944280563397, 2.6517828825253265, 3.38061266923753, 98.56541904001556, 0.6009907089136222, 1.7950156414935623, 0.7724410628771908, 0.6001695537857192, 47.56893078229509, 0.5031270798620163, 1.0534845421835246, 25.78130483519218, 25.364390300229427, 1.9982585122842773, 14.26546367391846, 12.564528181606935, 6.232296562038943, 4.295348844474581, 1.5182451730873756, 5.526435798210272, 2.636740545545179, 0.554970258800255, 4.315784943792145, 466.40014085671913, 1.3986496309448306, 1.467533762195152, 2.70055809541883, 31.250166209206185, 6.261807231733785, 0.4568903558489387, 0.4217810499852605, 0.3745740921238965, 72.42225138106194, 3.5915661997196193, 15.72327942602994, 618.5512215110684]\n"
     ]
    },
    {
     "ename": "AttributeError",
     "evalue": "'numpy.ndarray' object has no attribute 'values'",
     "output_type": "error",
     "traceback": [
      "\u001b[0;31m---------------------------------------------------------------------------\u001b[0m",
      "\u001b[0;31mAttributeError\u001b[0m                            Traceback (most recent call last)",
      "\u001b[0;32m/tmp/ipykernel_311/3313616549.py\u001b[0m in \u001b[0;36m<module>\u001b[0;34m\u001b[0m\n\u001b[1;32m     19\u001b[0m     \u001b[0mmodel\u001b[0m\u001b[0;34m.\u001b[0m\u001b[0mgrad_descent\u001b[0m\u001b[0;34m(\u001b[0m\u001b[0mX\u001b[0m\u001b[0;34m=\u001b[0m\u001b[0mx_train\u001b[0m\u001b[0;34m,\u001b[0m \u001b[0my\u001b[0m\u001b[0;34m=\u001b[0m\u001b[0my_train\u001b[0m\u001b[0;34m,\u001b[0m \u001b[0meps\u001b[0m\u001b[0;34m=\u001b[0m\u001b[0;36m0.01\u001b[0m\u001b[0;34m)\u001b[0m\u001b[0;34m\u001b[0m\u001b[0;34m\u001b[0m\u001b[0m\n\u001b[1;32m     20\u001b[0m     \u001b[0my_test\u001b[0m \u001b[0;34m=\u001b[0m \u001b[0mmodel\u001b[0m\u001b[0;34m.\u001b[0m\u001b[0mpredict\u001b[0m\u001b[0;34m(\u001b[0m\u001b[0mx_test\u001b[0m\u001b[0;34m)\u001b[0m\u001b[0;34m\u001b[0m\u001b[0;34m\u001b[0m\u001b[0m\n\u001b[0;32m---> 21\u001b[0;31m     \u001b[0mmse_score\u001b[0m \u001b[0;34m=\u001b[0m \u001b[0mmean_squared_error\u001b[0m\u001b[0;34m(\u001b[0m\u001b[0my_test\u001b[0m\u001b[0;34m.\u001b[0m\u001b[0mvalues\u001b[0m\u001b[0;34m,\u001b[0m \u001b[0my_test\u001b[0m\u001b[0;34m)\u001b[0m\u001b[0;34m\u001b[0m\u001b[0;34m\u001b[0m\u001b[0m\n\u001b[0m\u001b[1;32m     22\u001b[0m     \u001b[0mr2_score\u001b[0m \u001b[0;34m=\u001b[0m \u001b[0mr2_score\u001b[0m\u001b[0;34m(\u001b[0m\u001b[0my_test\u001b[0m\u001b[0;34m.\u001b[0m\u001b[0mvalues\u001b[0m\u001b[0;34m,\u001b[0m \u001b[0my_test\u001b[0m\u001b[0;34m)\u001b[0m\u001b[0;34m\u001b[0m\u001b[0;34m\u001b[0m\u001b[0m\n\u001b[1;32m     23\u001b[0m     \u001b[0mtraining_results\u001b[0m\u001b[0;34m.\u001b[0m\u001b[0mappend\u001b[0m\u001b[0;34m(\u001b[0m\u001b[0mTrainResult\u001b[0m\u001b[0;34m(\u001b[0m\u001b[0mstep_size\u001b[0m\u001b[0;34m,\u001b[0m \u001b[0mmodel\u001b[0m\u001b[0;34m,\u001b[0m \u001b[0mmse_score\u001b[0m\u001b[0;34m,\u001b[0m \u001b[0mr2_score\u001b[0m\u001b[0;34m)\u001b[0m\u001b[0;34m)\u001b[0m\u001b[0;34m\u001b[0m\u001b[0;34m\u001b[0m\u001b[0m\n",
      "\u001b[0;31mAttributeError\u001b[0m: 'numpy.ndarray' object has no attribute 'values'"
     ]
    }
   ],
   "source": [
    "# TRAIN NON REGULARIZED MODEL\n",
    "\n",
    "step_size_params = [0.001, 1, 10]\n",
    "\n",
    "@dataclass\n",
    "class TrainResult():\n",
    "    def __init__(self, step_size,  model, mse, r2):\n",
    "        self.step_size = step_size\n",
    "        self.model = model\n",
    "        self.mse = mse\n",
    "        self.r2 = r2\n",
    "        \n",
    "\n",
    "\n",
    "training_results: List[TrainResult] = []\n",
    "\n",
    "for step_size in step_size_params: \n",
    "    model = LinearRegressionMSPE(step_size=step_size)\n",
    "    model.grad_descent(X=x_train, y=y_train, eps=0.01)\n",
    "    y_test = model.predict(x_test)\n",
    "    mse_score = mean_squared_error(y_test.values, y_test) \n",
    "    r2_score = r2_score(y_test.values, y_test)\n",
    "    training_results.append(TrainResult(step_size, model, mse_score, r2_score))\n",
    "    \n",
    "    \n",
    "\n",
    "# ln_mspe_default_0001 = LinearRegressionMSPE(step_size=0.001)\n",
    "# ln_mspe_default_1 = LinearRegressionMSPE(step_size=1)\n",
    "# ln_mspe_default_10 = LinearRegressionMSPE(step_size=10)\n",
    "\n",
    "# ln_mspe_default_0001.grad_descent(X=x_train, y=y_train, eps=0.01)\n",
    "# ln_mspe_default_1.grad_descent(X=x_train, y=y_train, eps=0.01)\n",
    "# ln_mspe_default_10.grad_descent(X=x_train, y=y_train, eps=0.01)\n",
    "\n",
    "# # EVALUATE NON REGULARIZED MODEL\n",
    "\n",
    "# y_test_def = ln_mspe_default_0001.predict(x_test)\n",
    "# mse_score_def = mean_squared_error(y_test.values, y_test_def)\n",
    "# print(f'MSE score for test with custom Linear model is {mse_score_def}')\n",
    "# r2_score_def = r2_score(y_test.values, y_test_def)\n",
    "# print(f'R^2 score for test with custom Linear model is {r2_score_def}')"
   ]
  },
  {
   "cell_type": "code",
   "execution_count": 95,
   "metadata": {},
   "outputs": [
    {
     "name": "stdout",
     "output_type": "stream",
     "text": [
      "MSE score for test with custom Linear model is 247.71347390547777\n",
      "R^2 score for test with custom Linear model is 0.7956525465408992\n",
      "MSE score for test with custom Linear model is 243.62347970837862\n",
      "R^2 score for test with custom Linear model is 0.799026524894449\n"
     ]
    }
   ],
   "source": [
    "\n",
    "# MEASURE MODEL'S PERFORMANCE\n",
    "\n",
    "# Default\n",
    "\n",
    "\n",
    "\n",
    "# Regularized\n",
    "\n",
    "y_test_reg = ln_mspe_reg.predict(x_test)\n",
    "mse_score_reg = mean_squared_error(y_test.values, y_test_reg)\n",
    "print(f'MSE score for test with custom Linear model is {mse_score_reg}')\n",
    "r2_score_reg = r2_score(y_test.values, y_test_reg)\n",
    "print(f'R^2 score for test with custom Linear model is {r2_score_reg}')\n"
   ]
  },
  {
   "cell_type": "markdown",
   "metadata": {},
   "source": [
    "**22.** Обучите линейную регрессию с функционалом MSPE и его регуляризованным вариантом на обучающей выборке при помощи метода градиентного спуска и изобразите кривые зависимости значения функционала от номера итерации. Исследуйте зависимость скорости сходимости от наличия регуляризации. Обоснуйте, почему так происходит."
   ]
  },
  {
   "cell_type": "code",
   "execution_count": null,
   "metadata": {
    "collapsed": true
   },
   "outputs": [],
   "source": []
  },
  {
   "cell_type": "markdown",
   "metadata": {},
   "source": [
    "Метод градиентного спуска может быть весьма трудозатратен в случае большого размера обучающей выборки. Поэтому часто используют метод стохастического градиентного спуска, где на каждой итерации выбирается случайный объект из обучающей выборки и обновление весов происходит только по этому объекту. \n",
    "\n",
    "**23.**  Реализуйте метод стохастического градиентного спуска (SGD) для описанных функционалов ($MSPE$ и его регуляризованный вариант). Функция должна иметь параметры и возвращаемое значение, аналогичные оным функции grad\\_descent из п.21. Кроме того, должен использоваться аналогичный критерий останова."
   ]
  },
  {
   "cell_type": "code",
   "execution_count": null,
   "metadata": {
    "collapsed": true
   },
   "outputs": [],
   "source": [
    "def sgd(X, y, step_size, max_iter, eps, is_reg):\n",
    "    # Your code here"
   ]
  },
  {
   "cell_type": "markdown",
   "metadata": {},
   "source": [
    "Обучите линейную регрессию с функционалом $MSPE$ и его регуляризованным вариантом на обучающей выборке при помощи метода стохастического градиентного спуска, подобрав при этом размер шага, при котором метод будет сходиться. Нарисуйте график сходимости. Выведите значения $MSPE, MSE, R^2$ на контрольной выборке."
   ]
  },
  {
   "cell_type": "code",
   "execution_count": null,
   "metadata": {
    "collapsed": true
   },
   "outputs": [],
   "source": [
    "# Your code here"
   ]
  },
  {
   "cell_type": "markdown",
   "metadata": {},
   "source": [
    "**24.** Аналогично п.22 исследуйте зависимость скорости сходимости метода SGD от наличия регуляризации. Обоснуйте, почему так происходит."
   ]
  },
  {
   "cell_type": "code",
   "execution_count": null,
   "metadata": {
    "collapsed": true
   },
   "outputs": [],
   "source": [
    "# Your code here"
   ]
  },
  {
   "cell_type": "markdown",
   "metadata": {},
   "source": [
    "**25.** Обучите стандартную линейную регрессию с функционалом качества MSE на обучающей выборке и выведите значение MSPE полученного решения на контрольной выборке. Как оно соотносится с аналогичным результатом для решения, полученного в п.22? Почему?"
   ]
  },
  {
   "cell_type": "code",
   "execution_count": null,
   "metadata": {
    "collapsed": true
   },
   "outputs": [],
   "source": [
    "# Your code here"
   ]
  }
 ],
 "metadata": {
  "interpreter": {
   "hash": "6dfdbf814314f5228d869d148a99f3fdb55c68e76ee95238514a39cea5a1c1db"
  },
  "kernelspec": {
   "display_name": "PyCharm (data-analysis-labs)",
   "language": "python",
   "name": "python3"
  },
  "language_info": {
   "codemirror_mode": {
    "name": "ipython",
    "version": 3
   },
   "file_extension": ".py",
   "mimetype": "text/x-python",
   "name": "python",
   "nbconvert_exporter": "python",
   "pygments_lexer": "ipython3",
   "version": "3.8.10"
  }
 },
 "nbformat": 4,
 "nbformat_minor": 1
}
